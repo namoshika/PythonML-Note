{
 "cells": [
  {
   "cell_type": "code",
   "execution_count": 2,
   "metadata": {},
   "outputs": [],
   "source": [
    "import numpy as np\n",
    "import pandas as pd\n",
    "import matplotlib.pyplot as plt\n",
    "import mglearn\n",
    "from sklearn.model_selection import train_test_split\n",
    "\n",
    "%matplotlib inline"
   ]
  },
  {
   "cell_type": "markdown",
   "metadata": {},
   "source": [
    "# Pandas"
   ]
  },
  {
   "cell_type": "markdown",
   "metadata": {},
   "source": [
    "# データを取り込む (CSV)"
   ]
  },
  {
   "cell_type": "code",
   "execution_count": 3,
   "metadata": {},
   "outputs": [
    {
     "data": {
      "text/html": [
       "<div>\n",
       "<style scoped>\n",
       "    .dataframe tbody tr th:only-of-type {\n",
       "        vertical-align: middle;\n",
       "    }\n",
       "\n",
       "    .dataframe tbody tr th {\n",
       "        vertical-align: top;\n",
       "    }\n",
       "\n",
       "    .dataframe thead th {\n",
       "        text-align: right;\n",
       "    }\n",
       "</style>\n",
       "<table border=\"1\" class=\"dataframe\">\n",
       "  <thead>\n",
       "    <tr style=\"text-align: right;\">\n",
       "      <th></th>\n",
       "      <th>ServerID</th>\n",
       "      <th>Sponsor</th>\n",
       "      <th>ServerName</th>\n",
       "      <th>Timestamp</th>\n",
       "      <th>Distance</th>\n",
       "      <th>Ping</th>\n",
       "      <th>Download</th>\n",
       "      <th>Upload</th>\n",
       "    </tr>\n",
       "  </thead>\n",
       "  <tbody>\n",
       "    <tr>\n",
       "      <th>0</th>\n",
       "      <td>7510</td>\n",
       "      <td>ASEINet</td>\n",
       "      <td>Tokyo</td>\n",
       "      <td>2016-12-25T06:52:15.447935</td>\n",
       "      <td>26.445170</td>\n",
       "      <td>37.590</td>\n",
       "      <td>2.768103e+07</td>\n",
       "      <td>2.527274e+06</td>\n",
       "    </tr>\n",
       "    <tr>\n",
       "      <th>1</th>\n",
       "      <td>6492</td>\n",
       "      <td>denpa893</td>\n",
       "      <td>Sumida</td>\n",
       "      <td>2016-12-25T07:13:07.347532</td>\n",
       "      <td>32.165972</td>\n",
       "      <td>51.288</td>\n",
       "      <td>2.088240e+06</td>\n",
       "      <td>1.113094e+07</td>\n",
       "    </tr>\n",
       "    <tr>\n",
       "      <th>2</th>\n",
       "      <td>6492</td>\n",
       "      <td>denpa893</td>\n",
       "      <td>Sumida</td>\n",
       "      <td>2016-12-25T08:19:09.015875</td>\n",
       "      <td>32.165972</td>\n",
       "      <td>52.106</td>\n",
       "      <td>3.253422e+07</td>\n",
       "      <td>9.692958e+06</td>\n",
       "    </tr>\n",
       "  </tbody>\n",
       "</table>\n",
       "</div>"
      ],
      "text/plain": [
       "  ServerID   Sponsor ServerName                   Timestamp   Distance  \\\n",
       "0     7510   ASEINet      Tokyo  2016-12-25T06:52:15.447935  26.445170   \n",
       "1     6492  denpa893     Sumida  2016-12-25T07:13:07.347532  32.165972   \n",
       "2     6492  denpa893     Sumida  2016-12-25T08:19:09.015875  32.165972   \n",
       "\n",
       "     Ping      Download        Upload  \n",
       "0  37.590  2.768103e+07  2.527274e+06  \n",
       "1  51.288  2.088240e+06  1.113094e+07  \n",
       "2  52.106  3.253422e+07  9.692958e+06  "
      ]
     },
     "execution_count": 3,
     "metadata": {},
     "output_type": "execute_result"
    }
   ],
   "source": [
    "dt = pd.read_csv(\"./extra/speedtest.csv\",\n",
    "    names=[\"ServerID\", \"Sponsor\", \"ServerName\", \"Timestamp\", \"Distance\", \"Ping\", \"Download\", \"Upload\"])\n",
    "dt[0:3]"
   ]
  },
  {
   "cell_type": "code",
   "execution_count": 79,
   "metadata": {},
   "outputs": [
    {
     "data": {
      "text/plain": [
       "row0    0\n",
       "row1    1\n",
       "row2    2\n",
       "dtype: int64"
      ]
     },
     "execution_count": 79,
     "metadata": {},
     "output_type": "execute_result"
    }
   ],
   "source": [
    "tmp = list(range(3))\n",
    "sr = pd.Series(tmp, [f\"row{i}\" for i in tmp])\n",
    "sr"
   ]
  },
  {
   "cell_type": "markdown",
   "metadata": {},
   "source": [
    "# データを生成する\n",
    "PandasはDataFrameを扱うためのライブラリになるが、DataFrame生成は幾つかの方法がある。また、PandasにはSeriesという配列の様なものがあり、辞書+値1つを1つにまとめた動きをする。2次元データのDataFrameに対し、1次元データをSeriesとなり、SeriesはDataFrameでデータを取り出した際にしばしば登場する。。"
   ]
  },
  {
   "cell_type": "markdown",
   "metadata": {},
   "source": [
    "## Series (1次元データ)\n",
    "\n",
    "* 方法3: 辞書 → index: value、値1個: columnName\n",
    "* 方法4: 辞書 → columnName: value、値1個: index"
   ]
  },
  {
   "cell_type": "code",
   "execution_count": 208,
   "metadata": {},
   "outputs": [
    {
     "data": {
      "text/plain": [
       "row0    3\n",
       "row1    4\n",
       "row2    5\n",
       "Name: col1, dtype: int64"
      ]
     },
     "execution_count": 208,
     "metadata": {},
     "output_type": "execute_result"
    }
   ],
   "source": [
    "sr = pd.Series(range(3, 6), index=[f\"row{i}\" for i in range(3)], name=\"col1\")\n",
    "sr"
   ]
  },
  {
   "cell_type": "code",
   "execution_count": 210,
   "metadata": {},
   "outputs": [
    {
     "name": "stdout",
     "output_type": "stream",
     "text": [
      "4 \n",
      "\n",
      "row0    3\n",
      "row1    4\n",
      "Name: col1, dtype: int64 \n",
      "\n",
      "row0    3\n",
      "row2    5\n",
      "Name: col1, dtype: int64 \n",
      "\n",
      "Index(['row0', 'row1', 'row2'], dtype='object')\n"
     ]
    }
   ],
   "source": [
    "# 添字\n",
    "print(repr(sr[1]), \"\\n\")\n",
    "\n",
    "# ラベル\n",
    "print(repr(sr[\"row0\":\"row1\"]), \"\\n\")\n",
    "\n",
    "# ラベル (範囲)\n",
    "print(repr(sr[[\"row0\", \"row2\"]]), \"\\n\")\n",
    "\n",
    "# 添字参照\n",
    "print(repr(sr.index))"
   ]
  },
  {
   "cell_type": "markdown",
   "metadata": {},
   "source": [
    "## DataFrame (2次元データ)\n",
    "* 方法1: 列を束ねる方式 → dict\n",
    "* 方法2: 行を束ねる方式 → list"
   ]
  },
  {
   "cell_type": "code",
   "execution_count": 51,
   "metadata": {},
   "outputs": [
    {
     "data": {
      "text/html": [
       "<div>\n",
       "<style scoped>\n",
       "    .dataframe tbody tr th:only-of-type {\n",
       "        vertical-align: middle;\n",
       "    }\n",
       "\n",
       "    .dataframe tbody tr th {\n",
       "        vertical-align: top;\n",
       "    }\n",
       "\n",
       "    .dataframe thead th {\n",
       "        text-align: right;\n",
       "    }\n",
       "</style>\n",
       "<table border=\"1\" class=\"dataframe\">\n",
       "  <thead>\n",
       "    <tr style=\"text-align: right;\">\n",
       "      <th></th>\n",
       "      <th>cola</th>\n",
       "      <th>colb</th>\n",
       "      <th>colc</th>\n",
       "      <th>cold</th>\n",
       "    </tr>\n",
       "  </thead>\n",
       "  <tbody>\n",
       "    <tr>\n",
       "      <th>row1</th>\n",
       "      <td>0</td>\n",
       "      <td>0</td>\n",
       "      <td>0</td>\n",
       "      <td>0</td>\n",
       "    </tr>\n",
       "    <tr>\n",
       "      <th>row2</th>\n",
       "      <td>1</td>\n",
       "      <td>1</td>\n",
       "      <td>1</td>\n",
       "      <td>1</td>\n",
       "    </tr>\n",
       "    <tr>\n",
       "      <th>row3</th>\n",
       "      <td>2</td>\n",
       "      <td>2</td>\n",
       "      <td>2</td>\n",
       "      <td>2</td>\n",
       "    </tr>\n",
       "  </tbody>\n",
       "</table>\n",
       "</div>"
      ],
      "text/plain": [
       "      cola  colb  colc  cold\n",
       "row1     0     0     0     0\n",
       "row2     1     1     1     1\n",
       "row3     2     2     2     2"
      ]
     },
     "execution_count": 51,
     "metadata": {},
     "output_type": "execute_result"
    }
   ],
   "source": [
    "# レコード生成 方法1\n",
    "pd.DataFrame({\n",
    "    \"cola\": np.arange(3),\n",
    "    \"colb\": np.arange(3),\n",
    "    \"colc\": np.arange(3),\n",
    "    \"cold\": np.arange(3),\n",
    "}, index=[\"row1\", \"row2\", \"row3\"])"
   ]
  },
  {
   "cell_type": "code",
   "execution_count": 50,
   "metadata": {},
   "outputs": [
    {
     "data": {
      "text/html": [
       "<div>\n",
       "<style scoped>\n",
       "    .dataframe tbody tr th:only-of-type {\n",
       "        vertical-align: middle;\n",
       "    }\n",
       "\n",
       "    .dataframe tbody tr th {\n",
       "        vertical-align: top;\n",
       "    }\n",
       "\n",
       "    .dataframe thead th {\n",
       "        text-align: right;\n",
       "    }\n",
       "</style>\n",
       "<table border=\"1\" class=\"dataframe\">\n",
       "  <thead>\n",
       "    <tr style=\"text-align: right;\">\n",
       "      <th></th>\n",
       "      <th>cola</th>\n",
       "      <th>colb</th>\n",
       "      <th>colc</th>\n",
       "      <th>cold</th>\n",
       "    </tr>\n",
       "  </thead>\n",
       "  <tbody>\n",
       "    <tr>\n",
       "      <th>0</th>\n",
       "      <td>0</td>\n",
       "      <td>1</td>\n",
       "      <td>2</td>\n",
       "      <td>3</td>\n",
       "    </tr>\n",
       "    <tr>\n",
       "      <th>1</th>\n",
       "      <td>4</td>\n",
       "      <td>5</td>\n",
       "      <td>6</td>\n",
       "      <td>7</td>\n",
       "    </tr>\n",
       "  </tbody>\n",
       "</table>\n",
       "</div>"
      ],
      "text/plain": [
       "   cola  colb  colc  cold\n",
       "0     0     1     2     3\n",
       "1     4     5     6     7"
      ]
     },
     "execution_count": 50,
     "metadata": {},
     "output_type": "execute_result"
    }
   ],
   "source": [
    "# レコード生成 方法2\n",
    "pd.DataFrame(\n",
    "    np.arange(8).reshape(2, 4),\n",
    "    columns=[\"cola\", \"colb\", \"colc\", \"cold\"]\n",
    ")"
   ]
  },
  {
   "cell_type": "code",
   "execution_count": 123,
   "metadata": {},
   "outputs": [
    {
     "data": {
      "text/html": [
       "<div>\n",
       "<style scoped>\n",
       "    .dataframe tbody tr th:only-of-type {\n",
       "        vertical-align: middle;\n",
       "    }\n",
       "\n",
       "    .dataframe tbody tr th {\n",
       "        vertical-align: top;\n",
       "    }\n",
       "\n",
       "    .dataframe thead th {\n",
       "        text-align: right;\n",
       "    }\n",
       "</style>\n",
       "<table border=\"1\" class=\"dataframe\">\n",
       "  <thead>\n",
       "    <tr style=\"text-align: right;\">\n",
       "      <th></th>\n",
       "      <th>col0</th>\n",
       "      <th>col1</th>\n",
       "      <th>col2</th>\n",
       "    </tr>\n",
       "  </thead>\n",
       "  <tbody>\n",
       "    <tr>\n",
       "      <th>row0</th>\n",
       "      <td>dat00</td>\n",
       "      <td>dat10</td>\n",
       "      <td>dat20</td>\n",
       "    </tr>\n",
       "    <tr>\n",
       "      <th>row1</th>\n",
       "      <td>dat01</td>\n",
       "      <td>dat11</td>\n",
       "      <td>dat21</td>\n",
       "    </tr>\n",
       "    <tr>\n",
       "      <th>row2</th>\n",
       "      <td>dat02</td>\n",
       "      <td>dat12</td>\n",
       "      <td>dat22</td>\n",
       "    </tr>\n",
       "    <tr>\n",
       "      <th>row3</th>\n",
       "      <td>dat03</td>\n",
       "      <td>dat13</td>\n",
       "      <td>dat23</td>\n",
       "    </tr>\n",
       "    <tr>\n",
       "      <th>row4</th>\n",
       "      <td>dat04</td>\n",
       "      <td>dat14</td>\n",
       "      <td>dat24</td>\n",
       "    </tr>\n",
       "  </tbody>\n",
       "</table>\n",
       "</div>"
      ],
      "text/plain": [
       "       col0   col1   col2\n",
       "row0  dat00  dat10  dat20\n",
       "row1  dat01  dat11  dat21\n",
       "row2  dat02  dat12  dat22\n",
       "row3  dat03  dat13  dat23\n",
       "row4  dat04  dat14  dat24"
      ]
     },
     "execution_count": 123,
     "metadata": {},
     "output_type": "execute_result"
    }
   ],
   "source": [
    "# レコード生成 方法3\n",
    "pd.DataFrame([\n",
    "    pd.Series(\n",
    "        data=[f\"dat{r}{c}\" for r in range(3)],\n",
    "        index=[f\"col{r}\" for r in range(3)],\n",
    "        name=f\"row{c}\") for c in range(5)\n",
    "])"
   ]
  },
  {
   "cell_type": "code",
   "execution_count": 116,
   "metadata": {},
   "outputs": [
    {
     "data": {
      "text/html": [
       "<div>\n",
       "<style scoped>\n",
       "    .dataframe tbody tr th:only-of-type {\n",
       "        vertical-align: middle;\n",
       "    }\n",
       "\n",
       "    .dataframe tbody tr th {\n",
       "        vertical-align: top;\n",
       "    }\n",
       "\n",
       "    .dataframe thead th {\n",
       "        text-align: right;\n",
       "    }\n",
       "</style>\n",
       "<table border=\"1\" class=\"dataframe\">\n",
       "  <thead>\n",
       "    <tr style=\"text-align: right;\">\n",
       "      <th></th>\n",
       "      <th>0</th>\n",
       "      <th>1</th>\n",
       "      <th>2</th>\n",
       "      <th>3</th>\n",
       "      <th>4</th>\n",
       "    </tr>\n",
       "  </thead>\n",
       "  <tbody>\n",
       "    <tr>\n",
       "      <th>row0</th>\n",
       "      <td>dat00</td>\n",
       "      <td>dat01</td>\n",
       "      <td>dat02</td>\n",
       "      <td>dat03</td>\n",
       "      <td>dat04</td>\n",
       "    </tr>\n",
       "    <tr>\n",
       "      <th>row1</th>\n",
       "      <td>dat10</td>\n",
       "      <td>dat11</td>\n",
       "      <td>dat12</td>\n",
       "      <td>dat13</td>\n",
       "      <td>dat14</td>\n",
       "    </tr>\n",
       "    <tr>\n",
       "      <th>row2</th>\n",
       "      <td>dat20</td>\n",
       "      <td>dat21</td>\n",
       "      <td>dat22</td>\n",
       "      <td>dat23</td>\n",
       "      <td>dat24</td>\n",
       "    </tr>\n",
       "  </tbody>\n",
       "</table>\n",
       "</div>"
      ],
      "text/plain": [
       "          0      1      2      3      4\n",
       "row0  dat00  dat01  dat02  dat03  dat04\n",
       "row1  dat10  dat11  dat12  dat13  dat14\n",
       "row2  dat20  dat21  dat22  dat23  dat24"
      ]
     },
     "execution_count": 116,
     "metadata": {},
     "output_type": "execute_result"
    }
   ],
   "source": [
    "# レコード生成 方法4\n",
    "pd.DataFrame([pd.Series([f\"dat{r}{c}\" for c in range(5)], name=f\"row{r}\") for r in range(3)])"
   ]
  },
  {
   "cell_type": "markdown",
   "metadata": {},
   "source": [
    "# データを取得する\n",
    "\n",
    "* loc: ラベル指定で取得\n",
    "* iloc: 添字指定で取得\n",
    "\n",
    "loc/ilocプロパティからスライス機能で取得する。第1添字で行、第2添字で列を指定する。listのスライスと同じ感覚で使用できる他、添字にlistを使うことで飛々なインデックスを指定できる。"
   ]
  },
  {
   "cell_type": "code",
   "execution_count": 195,
   "metadata": {},
   "outputs": [],
   "source": [
    "sample_dt = pd.DataFrame([\n",
    "    pd.Series([1, 2, 3], index=[\"col1\", \"col2\", \"col3\"], name=5),\n",
    "    pd.Series([1, 2, 3], index=[\"col1\", \"col2\", \"col3\"], name=5),\n",
    "    pd.Series([1, 2, 3], index=[\"col1\", \"col2\", \"col3\"], name=7),\n",
    "])"
   ]
  },
  {
   "cell_type": "code",
   "execution_count": 216,
   "metadata": {},
   "outputs": [
    {
     "data": {
      "text/html": [
       "<div>\n",
       "<style scoped>\n",
       "    .dataframe tbody tr th:only-of-type {\n",
       "        vertical-align: middle;\n",
       "    }\n",
       "\n",
       "    .dataframe tbody tr th {\n",
       "        vertical-align: top;\n",
       "    }\n",
       "\n",
       "    .dataframe thead th {\n",
       "        text-align: right;\n",
       "    }\n",
       "</style>\n",
       "<table border=\"1\" class=\"dataframe\">\n",
       "  <thead>\n",
       "    <tr style=\"text-align: right;\">\n",
       "      <th></th>\n",
       "      <th>col1</th>\n",
       "      <th>col2</th>\n",
       "    </tr>\n",
       "  </thead>\n",
       "  <tbody>\n",
       "    <tr>\n",
       "      <th>5</th>\n",
       "      <td>1</td>\n",
       "      <td>2</td>\n",
       "    </tr>\n",
       "    <tr>\n",
       "      <th>5</th>\n",
       "      <td>1</td>\n",
       "      <td>2</td>\n",
       "    </tr>\n",
       "    <tr>\n",
       "      <th>7</th>\n",
       "      <td>1</td>\n",
       "      <td>2</td>\n",
       "    </tr>\n",
       "  </tbody>\n",
       "</table>\n",
       "</div>"
      ],
      "text/plain": [
       "   col1  col2\n",
       "5     1     2\n",
       "5     1     2\n",
       "7     1     2"
      ]
     },
     "execution_count": 216,
     "metadata": {},
     "output_type": "execute_result"
    }
   ],
   "source": [
    "# 行ラベルで抽出\n",
    "sample_dt.loc[5:7, [\"col1\", \"col2\"]]"
   ]
  },
  {
   "cell_type": "code",
   "execution_count": 221,
   "metadata": {},
   "outputs": [
    {
     "data": {
      "text/html": [
       "<div>\n",
       "<style scoped>\n",
       "    .dataframe tbody tr th:only-of-type {\n",
       "        vertical-align: middle;\n",
       "    }\n",
       "\n",
       "    .dataframe tbody tr th {\n",
       "        vertical-align: top;\n",
       "    }\n",
       "\n",
       "    .dataframe thead th {\n",
       "        text-align: right;\n",
       "    }\n",
       "</style>\n",
       "<table border=\"1\" class=\"dataframe\">\n",
       "  <thead>\n",
       "    <tr style=\"text-align: right;\">\n",
       "      <th></th>\n",
       "      <th>col2</th>\n",
       "      <th>col3</th>\n",
       "    </tr>\n",
       "  </thead>\n",
       "  <tbody>\n",
       "    <tr>\n",
       "      <th>5</th>\n",
       "      <td>2</td>\n",
       "      <td>3</td>\n",
       "    </tr>\n",
       "    <tr>\n",
       "      <th>5</th>\n",
       "      <td>2</td>\n",
       "      <td>3</td>\n",
       "    </tr>\n",
       "  </tbody>\n",
       "</table>\n",
       "</div>"
      ],
      "text/plain": [
       "   col2  col3\n",
       "5     2     3\n",
       "5     2     3"
      ]
     },
     "execution_count": 221,
     "metadata": {},
     "output_type": "execute_result"
    }
   ],
   "source": [
    "# 行番号で抽出\n",
    "sample_dt.iloc[0:2, 1:3]"
   ]
  },
  {
   "cell_type": "code",
   "execution_count": 229,
   "metadata": {},
   "outputs": [
    {
     "name": "stdout",
     "output_type": "stream",
     "text": [
      "Int64Index([5, 5, 7], dtype='int64')\n",
      "Index(['col1', 'col2', 'col3'], dtype='object')\n"
     ]
    }
   ],
   "source": [
    "# 行ラベル取得\n",
    "print(repr(sample_dt.index))\n",
    "\n",
    "# 列ラベル取得\n",
    "print(repr(sample_dt.columns))"
   ]
  },
  {
   "cell_type": "markdown",
   "metadata": {},
   "source": [
    "# データを出力する"
   ]
  },
  {
   "cell_type": "code",
   "execution_count": 35,
   "metadata": {},
   "outputs": [],
   "source": [
    "# レコード書き出し\n",
    "dtA.to_csv(\"./extra/test.csv\")"
   ]
  },
  {
   "cell_type": "code",
   "execution_count": 238,
   "metadata": {},
   "outputs": [
    {
     "data": {
      "text/plain": [
       "array([[1, 2, 3],\n",
       "       [1, 2, 3],\n",
       "       [1, 2, 3]], dtype=int64)"
      ]
     },
     "execution_count": 238,
     "metadata": {},
     "output_type": "execute_result"
    }
   ],
   "source": [
    "# レコードをndarrayで書き出し\n",
    "sample_dt.values"
   ]
  }
 ],
 "metadata": {
  "kernelspec": {
   "display_name": "Python 3",
   "language": "python",
   "name": "python3"
  },
  "language_info": {
   "codemirror_mode": {
    "name": "ipython",
    "version": 3
   },
   "file_extension": ".py",
   "mimetype": "text/x-python",
   "name": "python",
   "nbconvert_exporter": "python",
   "pygments_lexer": "ipython3",
   "version": "3.6.8"
  }
 },
 "nbformat": 4,
 "nbformat_minor": 2
}
