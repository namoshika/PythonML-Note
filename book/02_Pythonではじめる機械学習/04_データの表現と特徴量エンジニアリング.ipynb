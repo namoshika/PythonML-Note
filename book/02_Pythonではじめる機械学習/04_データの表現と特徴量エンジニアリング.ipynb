{
 "cells": [
  {
   "cell_type": "code",
   "execution_count": 2,
   "metadata": {},
   "outputs": [],
   "source": [
    "import numpy as np\n",
    "import pandas as pd\n",
    "import matplotlib.pyplot as plt\n",
    "import sklearn.datasets as datasets\n",
    "import mglearn\n",
    "from sklearn.model_selection import train_test_split\n",
    "\n",
    "%matplotlib inline"
   ]
  },
  {
   "cell_type": "code",
   "execution_count": 28,
   "metadata": {},
   "outputs": [
    {
     "data": {
      "text/html": [
       "<div>\n",
       "<style scoped>\n",
       "    .dataframe tbody tr th:only-of-type {\n",
       "        vertical-align: middle;\n",
       "    }\n",
       "\n",
       "    .dataframe tbody tr th {\n",
       "        vertical-align: top;\n",
       "    }\n",
       "\n",
       "    .dataframe thead th {\n",
       "        text-align: right;\n",
       "    }\n",
       "</style>\n",
       "<table border=\"1\" class=\"dataframe\">\n",
       "  <thead>\n",
       "    <tr style=\"text-align: right;\">\n",
       "      <th></th>\n",
       "      <th>origin</th>\n",
       "      <th>digitize</th>\n",
       "    </tr>\n",
       "  </thead>\n",
       "  <tbody>\n",
       "    <tr>\n",
       "      <th>0</th>\n",
       "      <td>0.0</td>\n",
       "      <td>0</td>\n",
       "    </tr>\n",
       "    <tr>\n",
       "      <th>1</th>\n",
       "      <td>0.5</td>\n",
       "      <td>0</td>\n",
       "    </tr>\n",
       "    <tr>\n",
       "      <th>2</th>\n",
       "      <td>1.0</td>\n",
       "      <td>0</td>\n",
       "    </tr>\n",
       "    <tr>\n",
       "      <th>3</th>\n",
       "      <td>1.5</td>\n",
       "      <td>0</td>\n",
       "    </tr>\n",
       "    <tr>\n",
       "      <th>4</th>\n",
       "      <td>2.0</td>\n",
       "      <td>1</td>\n",
       "    </tr>\n",
       "    <tr>\n",
       "      <th>5</th>\n",
       "      <td>2.5</td>\n",
       "      <td>1</td>\n",
       "    </tr>\n",
       "    <tr>\n",
       "      <th>6</th>\n",
       "      <td>3.0</td>\n",
       "      <td>1</td>\n",
       "    </tr>\n",
       "    <tr>\n",
       "      <th>7</th>\n",
       "      <td>3.5</td>\n",
       "      <td>1</td>\n",
       "    </tr>\n",
       "    <tr>\n",
       "      <th>8</th>\n",
       "      <td>4.0</td>\n",
       "      <td>2</td>\n",
       "    </tr>\n",
       "    <tr>\n",
       "      <th>9</th>\n",
       "      <td>4.5</td>\n",
       "      <td>2</td>\n",
       "    </tr>\n",
       "    <tr>\n",
       "      <th>10</th>\n",
       "      <td>5.0</td>\n",
       "      <td>2</td>\n",
       "    </tr>\n",
       "  </tbody>\n",
       "</table>\n",
       "</div>"
      ],
      "text/plain": [
       "    origin  digitize\n",
       "0      0.0         0\n",
       "1      0.5         0\n",
       "2      1.0         0\n",
       "3      1.5         0\n",
       "4      2.0         1\n",
       "5      2.5         1\n",
       "6      3.0         1\n",
       "7      3.5         1\n",
       "8      4.0         2\n",
       "9      4.5         2\n",
       "10     5.0         2"
      ]
     },
     "execution_count": 28,
     "metadata": {},
     "output_type": "execute_result"
    }
   ],
   "source": [
    "dt_origin = np.linspace(0, 5, 11)\n",
    "dt_digtiz = np.digitize(dt_origin, np.arange(3) * 2 + 2)\n",
    "dt = pd.DataFrame({ \"origin\": a, \"digitize\": b })\n",
    "dt"
   ]
  },
  {
   "cell_type": "markdown",
   "metadata": {},
   "source": [
    "# 交互作用と多項式\n",
    "1次元のデータに対する線形モデルでも表現を変える事で複雑な形状を学習できる。\n",
    "\n",
    "* 1次元の連続値を区間で分け(ビニング)\n",
    "* 区間に番号を振る(離散化)\n",
    "* 1-of-K表現に変換"
   ]
  },
  {
   "cell_type": "code",
   "execution_count": 53,
   "metadata": {},
   "outputs": [
    {
     "data": {
      "text/plain": [
       "array([[1., 0., 0.],\n",
       "       [1., 0., 0.],\n",
       "       [1., 0., 0.],\n",
       "       [1., 0., 0.],\n",
       "       [0., 1., 0.],\n",
       "       [0., 1., 0.],\n",
       "       [0., 1., 0.],\n",
       "       [0., 1., 0.],\n",
       "       [0., 0., 1.],\n",
       "       [0., 0., 1.],\n",
       "       [0., 0., 1.]])"
      ]
     },
     "execution_count": 53,
     "metadata": {},
     "output_type": "execute_result"
    }
   ],
   "source": [
    "from sklearn.preprocessing import OneHotEncoder\n",
    "\n",
    "# 1-of-k。OneHotとも呼ぶ\n",
    "res = OneHotEncoder(categories=\"auto\").fit_transform(dt[\"digitize\"].values.reshape(-1, 1))\n",
    "res.toarray()"
   ]
  },
  {
   "cell_type": "code",
   "execution_count": 244,
   "metadata": {},
   "outputs": [
    {
     "data": {
      "text/plain": [
       "[<matplotlib.lines.Line2D at 0x15a02203b70>]"
      ]
     },
     "execution_count": 244,
     "metadata": {},
     "output_type": "execute_result"
    },
    {
     "data": {
      "image/png": "[encoded data removed]",
      "text/plain": [
       "<Figure size 432x288 with 1 Axes>"
      ]
     },
     "metadata": {
      "needs_background": "light"
     },
     "output_type": "display_data"
    }
   ],
   "source": [
    "# 1次元のサンプルデータを作成\n",
    "x, y = mglearn.datasets.make_wave()\n",
    "plt.scatter(x, y)\n",
    "\n",
    "from sklearn.linear_model import LinearRegression\n",
    "es = LinearRegression().fit(x, y)\n",
    "\n",
    "# 線形回帰は低次元では表現力が低い\n",
    "x_pred = np.linspace(-3, 3, 20).reshape(-1, 1)\n",
    "plt.plot(x_pred, es.predict(x_pred), c=\"orange\")"
   ]
  },
  {
   "cell_type": "markdown",
   "metadata": {},
   "source": [
    "## ビニング (離散化)\n",
    "ビニング、離散化、1-of-kで入力データを区間ごとに対応する次元が1になるデータへ変換し学習させる。学習結果は各区間の切片になる。決定木の様なカクカクとした決定境界になる。なお、ビニングは1つずつの特徴量にしか適用できない制約がある。"
   ]
  },
  {
   "cell_type": "code",
   "execution_count": 261,
   "metadata": {},
   "outputs": [
    {
     "name": "stdout",
     "output_type": "stream",
     "text": [
      "[-2.4 -1.8 -1.2 -0.6  0.   0.6  1.2  1.8  2.4]\n"
     ]
    },
    {
     "data": {
      "text/plain": [
       "[<matplotlib.lines.Line2D at 0x15a039b9fd0>]"
      ]
     },
     "execution_count": 261,
     "metadata": {},
     "output_type": "execute_result"
    },
    {
     "data": {
      "image/png": "[encoded data removed]",
      "text/plain": [
       "<Figure size 432x288 with 1 Axes>"
      ]
     },
     "metadata": {
      "needs_background": "light"
     },
     "output_type": "display_data"
    }
   ],
   "source": [
    "plt.scatter(x, y)\n",
    "\n",
    "# ビン間隔\n",
    "bins = np.linspace(-3, 3, 11)[1:-1]\n",
    "for b in bins:\n",
    "    plt.axvline(b, c=\"gray\", lw=1, ls=\"--\")\n",
    "print(bins)\n",
    "\n",
    "# ビニング+離散化\n",
    "x_digitiz = np.digitize(x, bins)\n",
    "\n",
    "# 1-of-k 変換\n",
    "x_mod = OneHotEncoder(categories=[range(bins.size + 1)]).fit_transform(x_digitiz).toarray()\n",
    "\n",
    "# 線形モデルで学習\n",
    "es = LinearRegression().fit(x_mod, y)\n",
    "\n",
    "# 境界線をプロット\n",
    "x_pred = np.linspace(-3, 3, 600).reshape(-1, 1)\n",
    "x_digitiz = np.digitize(x_pred, bins)\n",
    "x_mod = OneHotEncoder(categories=[range(bins.size + 1)]).fit_transform(x_digitiz).toarray()\n",
    "\n",
    "plt.plot(x_pred, es.predict(x_mod), c=\"orange\")"
   ]
  },
  {
   "cell_type": "markdown",
   "metadata": {},
   "source": [
    "## 区間ごとの傾きも学習させる\n",
    "訓練データを区間ごとに次元を分けると、区間ごとに別の傾きを学習できる。"
   ]
  },
  {
   "cell_type": "code",
   "execution_count": 259,
   "metadata": {},
   "outputs": [
    {
     "name": "stdout",
     "output_type": "stream",
     "text": [
      "[-2.4 -1.8 -1.2 -0.6  0.   0.6  1.2  1.8  2.4]\n"
     ]
    },
    {
     "data": {
      "text/plain": [
       "[<matplotlib.lines.Line2D at 0x15a039d07b8>]"
      ]
     },
     "execution_count": 259,
     "metadata": {},
     "output_type": "execute_result"
    },
    {
     "data": {
      "image/png": "[encoded data removed]",
      "text/plain": [
       "<Figure size 432x288 with 1 Axes>"
      ]
     },
     "metadata": {
      "needs_background": "light"
     },
     "output_type": "display_data"
    }
   ],
   "source": [
    "plt.scatter(x, y)\n",
    "\n",
    "# ビン間隔\n",
    "bins = np.linspace(-3, 3, 11)[1:-1]\n",
    "for b in bins:\n",
    "    plt.axvline(b, c=\"gray\", lw=1, ls=\"--\")\n",
    "print(bins)\n",
    "\n",
    "# ビニング+離散化\n",
    "x_digitiz = np.digitize(x, bins)\n",
    "\n",
    "# 1-of-k 変換\n",
    "x_mod = OneHotEncoder(categories=[range(bins.size + 1)]).fit_transform(x_digitiz).toarray()\n",
    "\n",
    "# 新規追加\n",
    "# 区間ごとにx_modで切片を、x*x_modで傾きを学習\n",
    "x_mod = np.hstack((x_mod, x * x_mod))\n",
    "\n",
    "# 線形モデルで学習\n",
    "es = LinearRegression().fit(x_mod, y)\n",
    "\n",
    "# 境界線をプロット\n",
    "x_pred = np.linspace(-3, 3, 600).reshape(-1, 1)\n",
    "x_digitiz = np.digitize(x_pred, bins)\n",
    "x_mod = OneHotEncoder(categories=[range(bins.size + 1)]).fit_transform(x_digitiz).toarray()\n",
    "x_mod = np.hstack((x_mod, x_pred * x_mod))\n",
    "\n",
    "plt.plot(x_pred, es.predict(x_mod), c=\"orange\")"
   ]
  },
  {
   "cell_type": "markdown",
   "metadata": {},
   "source": [
    "## 特徴量の多項式化\n",
    "特徴量へ交互作用、非線形を加えることでも表現力を強化できる。これはPolynomialFeaturesを使うことで処理可能。\n",
    "\n",
    "### パラメータ\n",
    "\n",
    "* degree  \n",
    "  何次変数までの組み合わせを求めるかを指定。デフォルトは2 (1～2次項までを作る)\n",
    "* interaction_only  \n",
    "  相互作用項のみ生成\n",
    "* include_bias  \n",
    "  切片(常に1)を生成"
   ]
  },
  {
   "cell_type": "code",
   "execution_count": 277,
   "metadata": {},
   "outputs": [
    {
     "name": "stdout",
     "output_type": "stream",
     "text": [
      "[[2. 3. 4. 6. 9.]]\n",
      "['x0', 'x1', 'x0^2', 'x0 x1', 'x1^2']\n"
     ]
    }
   ],
   "source": [
    "from sklearn.preprocessing import PolynomialFeatures\n",
    "\n",
    "poly = PolynomialFeatures(degree=2, include_bias=False)\n",
    "print(poly.fit_transform([[2, 3]]))\n",
    "print(poly.get_feature_names())"
   ]
  },
  {
   "cell_type": "code",
   "execution_count": 284,
   "metadata": {},
   "outputs": [
    {
     "name": "stdout",
     "output_type": "stream",
     "text": [
      "[[2. 3. 6.]]\n",
      "['x0', 'x1', 'x0 x1']\n"
     ]
    }
   ],
   "source": [
    "poly = PolynomialFeatures(degree=2, interaction_only=True, include_bias=False)\n",
    "print(poly.fit_transform([[2, 3]]))\n",
    "print(poly.get_feature_names())"
   ]
  },
  {
   "cell_type": "markdown",
   "metadata": {},
   "source": [
    "多項式化した上で線形モデルで学習させる。これは古典的な多項式回帰モデルになる。サンプルデータの小さい波形をしつつ右肩上がりをする分布にSVMの様な複雑なモデル並によく適合する。しかし、n個のデータはn-1次の多項式で完全一致できる(過学習)点に注意が必要。"
   ]
  },
  {
   "cell_type": "code",
   "execution_count": 398,
   "metadata": {},
   "outputs": [
    {
     "data": {
      "text/plain": [
       "<matplotlib.legend.Legend at 0x15a083fdf28>"
      ]
     },
     "execution_count": 398,
     "metadata": {},
     "output_type": "execute_result"
    },
    {
     "data": {
      "image/png": "[encoded data removed]",
      "text/plain": [
       "<Figure size 432x288 with 1 Axes>"
      ]
     },
     "metadata": {
      "needs_background": "light"
     },
     "output_type": "display_data"
    }
   ],
   "source": [
    "from sklearn.svm import SVR\n",
    "from sklearn.preprocessing import MinMaxScaler\n",
    "\n",
    "# 線形モデルで学習\n",
    "# 10次項までの組み合わせを作る\n",
    "polyf = PolynomialFeatures(degree=10).fit(x)\n",
    "x_mod = polyf.transform(x)\n",
    "liner = LinearRegression().fit(x_mod, y)\n",
    "\n",
    "# 境界線をプロット(線形モデル)\n",
    "x_pred = np.linspace(-3, 3, 600).reshape(-1, 1)\n",
    "x_pred_mod = x_pred\n",
    "x_pred_mod = poly.transform(x_pred_mod)\n",
    "plt.plot(x_pred, liner.predict(x_pred_mod), label=type(liner).__name__)\n",
    "\n",
    "# SVMモデルで学習\n",
    "# 多項式化せずに訓練する\n",
    "scaler = MinMaxScaler().fit(x)\n",
    "x_mod = scaler.transform(x)\n",
    "svm = SVR(gamma=100).fit(x_mod, y)\n",
    "\n",
    "# 境界線をプロット(SVMモデル)\n",
    "x_pred = np.linspace(-3, 3, 600).reshape(-1, 1)\n",
    "x_pred_mod = x_pred\n",
    "x_pred_mod = scaler.transform(x_pred_mod)\n",
    "plt.plot(x_pred, svm.predict(x_pred_mod), label=type(svm).__name__)\n",
    "\n",
    "plt.scatter(x, y, c=\"k\", s=10)\n",
    "plt.legend()"
   ]
  },
  {
   "cell_type": "markdown",
   "metadata": {},
   "source": [
    "# 単変量非線形変換\n",
    "log, exp, sinなどを基底関数に使用するのも良い。分布の形状によっては精度が向上する。"
   ]
  },
  {
   "cell_type": "code",
   "execution_count": 421,
   "metadata": {},
   "outputs": [
    {
     "data": {
      "text/plain": [
       "Text(0.5, 1.0, '$log x$')"
      ]
     },
     "execution_count": 421,
     "metadata": {},
     "output_type": "execute_result"
    },
    {
     "data": {
      "image/png": "[encoded data removed]",
      "text/plain": [
       "<Figure size 576x216 with 2 Axes>"
      ]
     },
     "metadata": {
      "needs_background": "light"
     },
     "output_type": "display_data"
    }
   ],
   "source": [
    "y = np.linspace(0, 5, 100)\n",
    "x = 10 * np.exp(y)\n",
    "\n",
    "plt.figure(figsize=(8, 3))\n",
    "plt.subplot(1, 2, 1)\n",
    "plt.plot(x, y)\n",
    "plt.title(\"$x$\")\n",
    "\n",
    "# 線形モデルとの相性はこちらが良い\n",
    "plt.subplot(1, 2, 2)\n",
    "plt.plot(np.log(x), y)\n",
    "plt.title(\"$log x$\")"
   ]
  },
  {
   "cell_type": "markdown",
   "metadata": {},
   "source": [
    "# 自動特徴量選択\n",
    "実世界のデータで特徴量削減が大幅な性能向上に繋がることはあまり無い。しかし、入力に何を使えば良いか分からない場合や、推論の高速化、解釈しやすいモデル構築に役立つ。\n",
    "\n",
    "## 単変量統計\n",
    "個々の特徴量に対しp値で重要度を判断する。SelectKBest, SelectPercentile を使うことが多い。前者は数、後者は割合で特徴量の数を決定する。特徴量が多すぎてモデル作成が出来ない場合や、関係無い特徴量が多いと思われる場合に有効"
   ]
  },
  {
   "cell_type": "code",
   "execution_count": 16,
   "metadata": {},
   "outputs": [],
   "source": [
    "cancer = datasets.load_breast_cancer()\n",
    "rnd = np.random.RandomState(42)\n",
    "noise = rnd.normal(size=(len(cancer.data),50))\n",
    "X_w_noise = np.hstack((cancer.data, noise))\n",
    "\n",
    "# 特徴量に50個のノイズ変数を追加したデータを生成\n",
    "X_train, X_test, y_train, y_test = train_test_split(\n",
    "    X_w_noise, cancer.target, random_state=0, test_size=0.5)"
   ]
  },
  {
   "cell_type": "code",
   "execution_count": 47,
   "metadata": {},
   "outputs": [
    {
     "data": {
      "text/plain": [
       "<matplotlib.lines.Line2D at 0x1ce35be77f0>"
      ]
     },
     "execution_count": 47,
     "metadata": {},
     "output_type": "execute_result"
    },
    {
     "data": {
      "image/png": "[encoded data removed]",
      "text/plain": [
       "<Figure size 1152x144 with 1 Axes>"
      ]
     },
     "metadata": {
      "needs_background": "light"
     },
     "output_type": "display_data"
    }
   ],
   "source": [
    "from sklearn.feature_selection import SelectPercentile\n",
    "\n",
    "# 特徴量を半分切り捨て\n",
    "select = SelectPercentile(percentile=50).fit(X_train, y_train)\n",
    "sel_feature = select.get_support().reshape(1, -1)\n",
    "\n",
    "# 黒が残った特徴量\n",
    "plt.matshow(sel_feature, cmap=\"gray_r\")\n",
    "# 赤線より右側全てノイズ\n",
    "plt.axvline(30.5, c=\"red\")"
   ]
  },
  {
   "cell_type": "markdown",
   "metadata": {},
   "source": [
    "## モデルベース特徴量選択\n",
    "学習器を用いて特徴量の重量度を量る。モデルによっては複数の特徴量を考慮でき、単変量より強力。学習器に feature_importances_, coef_ が定義されていれば使える。L1正則化に似ているが、これの場合には正則化と推論で異なる学習器が使用可能。"
   ]
  },
  {
   "cell_type": "code",
   "execution_count": 51,
   "metadata": {},
   "outputs": [
    {
     "data": {
      "text/plain": [
       "<matplotlib.lines.Line2D at 0x1ce35dc6860>"
      ]
     },
     "execution_count": 51,
     "metadata": {},
     "output_type": "execute_result"
    },
    {
     "data": {
      "image/png": "[encoded data removed]",
      "text/plain": [
       "<Figure size 1152x144 with 1 Axes>"
      ]
     },
     "metadata": {
      "needs_background": "light"
     },
     "output_type": "display_data"
    }
   ],
   "source": [
    "from sklearn.feature_selection import SelectFromModel\n",
    "from sklearn.ensemble import RandomForestClassifier\n",
    "\n",
    "# 特徴量を半分切り捨て (中央値未満が弾かれる)\n",
    "rndfrst = RandomForestClassifier(100, random_state=42)\n",
    "select = SelectFromModel(rndfrst, threshold=\"median\").fit(X_train, y_train)\n",
    "sel_feature = select.get_support().reshape(1, -1)\n",
    "\n",
    "# 黒が残った特徴量\n",
    "plt.matshow(sel_feature, cmap=\"gray_r\")\n",
    "# 赤線より右側全てノイズ\n",
    "plt.axvline(30.5, c=\"red\")"
   ]
  },
  {
   "cell_type": "markdown",
   "metadata": {},
   "source": [
    "## 反復特徴量選択\n",
    "モデルベース特徴量選択を更に進めたものとして全ての特徴量からの学習から始め1つずつ重要度の低い特徴量を減らす事を閾値まで繰り返す方法がある (**再帰的特徴量削減**)。高コスト"
   ]
  },
  {
   "cell_type": "code",
   "execution_count": 52,
   "metadata": {},
   "outputs": [
    {
     "data": {
      "text/plain": [
       "<matplotlib.lines.Line2D at 0x1ce35dc60f0>"
      ]
     },
     "execution_count": 52,
     "metadata": {},
     "output_type": "execute_result"
    },
    {
     "data": {
      "image/png": "[encoded data removed]",
      "text/plain": [
       "<Figure size 1152x144 with 1 Axes>"
      ]
     },
     "metadata": {
      "needs_background": "light"
     },
     "output_type": "display_data"
    }
   ],
   "source": [
    "from sklearn.feature_selection import RFE\n",
    "\n",
    "rndfrst = RandomForestClassifier(100, random_state=42)\n",
    "select = RFE(rndfrst, n_features_to_select=40).fit(X_train, y_train)\n",
    "sel_feature = select.get_support().reshape(1, -1)\n",
    "\n",
    "# 黒が残った特徴量\n",
    "plt.matshow(sel_feature, cmap=\"gray_r\")\n",
    "# 赤線より右側全てノイズ\n",
    "plt.axvline(30.5, c=\"red\")"
   ]
  },
  {
   "cell_type": "markdown",
   "metadata": {},
   "source": [
    "# 専門家知識の利用\n",
    "推論対象の専門家から知見を聞き出せれば、モデルの特徴量に加え精度向上ができる事がある。"
   ]
  }
 ],
 "metadata": {
  "kernelspec": {
   "display_name": "Python 3",
   "language": "python",
   "name": "python3"
  },
  "language_info": {
   "codemirror_mode": {
    "name": "ipython",
    "version": 3
   },
   "file_extension": ".py",
   "mimetype": "text/x-python",
   "name": "python",
   "nbconvert_exporter": "python",
   "pygments_lexer": "ipython3",
   "version": "3.6.8"
  }
 },
 "nbformat": 4,
 "nbformat_minor": 2
}
