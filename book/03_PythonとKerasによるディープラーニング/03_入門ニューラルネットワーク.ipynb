{
 "cells": [
  {
   "cell_type": "code",
   "execution_count": 75,
   "metadata": {},
   "outputs": [],
   "source": [
    "import numpy as np\n",
    "import matplotlib.pyplot as plt\n",
    "import tensorflow.keras as keras\n",
    "import sklearn.preprocessing as prep\n",
    "\n",
    "%matplotlib inline"
   ]
  },
  {
   "cell_type": "markdown",
   "metadata": {},
   "source": [
    "# 二値分類問題\n",
    "分類問題には交差エントロピーを使う事が多い。二値分類にはbinary_crossentropyを使うが、mean_squared_error(平均二乗誤差)も使える。"
   ]
  },
  {
   "cell_type": "code",
   "execution_count": 3,
   "metadata": {},
   "outputs": [],
   "source": [
    "from tensorflow.keras import datasets, models, layers, optimizers, activations, losses, utils\n",
    "from sklearn.feature_extraction import DictVectorizer\n",
    "import collections"
   ]
  },
  {
   "cell_type": "code",
   "execution_count": 5,
   "metadata": {},
   "outputs": [
    {
     "name": "stdout",
     "output_type": "stream",
     "text": [
      "Downloading data from https://storage.googleapis.com/tensorflow/tf-keras-datasets/imdb.npz\n",
      "17465344/17464789 [==============================] - 2s 0us/step\n"
     ]
    }
   ],
   "source": [
    "(train_data, train_label), (test_data, test_label) = datasets.imdb.load_data(num_words=10000)\n",
    "train_data_raw = list(train_data)\n",
    "test_data_raw = list(test_data)"
   ]
  },
  {
   "cell_type": "code",
   "execution_count": 6,
   "metadata": {},
   "outputs": [],
   "source": [
    "dv = DictVectorizer(dtype=np.int)\n",
    "train_data = dv.fit_transform([collections.Counter(item) for item in train_data_raw])\n",
    "test_data = dv.transform([collections.Counter(item) for item in test_data_raw])"
   ]
  },
  {
   "cell_type": "code",
   "execution_count": 7,
   "metadata": {},
   "outputs": [
    {
     "name": "stdout",
     "output_type": "stream",
     "text": [
      "(25000, 9998) (25000,)\n"
     ]
    }
   ],
   "source": [
    "print(train_data.shape, train_label.shape)"
   ]
  },
  {
   "cell_type": "code",
   "execution_count": 10,
   "metadata": {},
   "outputs": [],
   "source": [
    "mod = models.Sequential()\n",
    "mod.add(layers.Dense(16, activations.relu, input_shape=(len(dv.feature_names_),)))\n",
    "mod.add(layers.Dense(16, activations.relu))\n",
    "mod.add(layers.Dense(1, activations.sigmoid))\n",
    "mod.compile(optimizers.RMSprop(), losses.binary_crossentropy, metrics=[\"acc\"])"
   ]
  },
  {
   "cell_type": "code",
   "execution_count": 130,
   "metadata": {},
   "outputs": [
    {
     "name": "stdout",
     "output_type": "stream",
     "text": [
      "Train on 25000 samples, validate on 25000 samples\n",
      "Epoch 1/20\n",
      "25000/25000 [==============================] - 2s 91us/sample - loss: 0.4919 - acc: 0.7952 - val_loss: 0.3605 - val_acc: 0.8762\n",
      "Epoch 2/20\n",
      "25000/25000 [==============================] - 2s 75us/sample - loss: 0.2961 - acc: 0.8964 - val_loss: 0.3058 - val_acc: 0.8852\n",
      "Epoch 3/20\n",
      "25000/25000 [==============================] - 2s 75us/sample - loss: 0.2334 - acc: 0.9182 - val_loss: 0.3234 - val_acc: 0.8763\n",
      "Epoch 4/20\n",
      "25000/25000 [==============================] - 2s 73us/sample - loss: 0.1961 - acc: 0.9316 - val_loss: 0.2891 - val_acc: 0.8878\n",
      "Epoch 5/20\n",
      "25000/25000 [==============================] - 2s 69us/sample - loss: 0.1675 - acc: 0.9406 - val_loss: 0.3012 - val_acc: 0.8844\n",
      "Epoch 6/20\n",
      "25000/25000 [==============================] - 2s 69us/sample - loss: 0.1513 - acc: 0.9465 - val_loss: 0.3136 - val_acc: 0.8803\n",
      "Epoch 7/20\n",
      "25000/25000 [==============================] - 2s 77us/sample - loss: 0.1294 - acc: 0.9551 - val_loss: 0.3376 - val_acc: 0.8761\n",
      "Epoch 8/20\n",
      "25000/25000 [==============================] - 2s 76us/sample - loss: 0.1130 - acc: 0.9616 - val_loss: 0.3835 - val_acc: 0.8689\n",
      "Epoch 9/20\n",
      "25000/25000 [==============================] - 2s 73us/sample - loss: 0.1025 - acc: 0.9658 - val_loss: 0.3696 - val_acc: 0.8731\n",
      "Epoch 10/20\n",
      "25000/25000 [==============================] - 2s 72us/sample - loss: 0.0918 - acc: 0.9705 - val_loss: 0.4442 - val_acc: 0.8600\n",
      "Epoch 11/20\n",
      "25000/25000 [==============================] - 2s 73us/sample - loss: 0.0801 - acc: 0.9738 - val_loss: 0.5339 - val_acc: 0.8456\n",
      "Epoch 12/20\n",
      "25000/25000 [==============================] - 2s 73us/sample - loss: 0.0657 - acc: 0.9799 - val_loss: 0.4981 - val_acc: 0.8572\n",
      "Epoch 13/20\n",
      "25000/25000 [==============================] - 2s 73us/sample - loss: 0.0620 - acc: 0.9808 - val_loss: 0.5384 - val_acc: 0.8524\n",
      "Epoch 14/20\n",
      "25000/25000 [==============================] - 2s 64us/sample - loss: 0.0570 - acc: 0.9838 - val_loss: 0.5775 - val_acc: 0.8486\n",
      "Epoch 15/20\n",
      "25000/25000 [==============================] - 2s 64us/sample - loss: 0.0451 - acc: 0.9878 - val_loss: 0.5166 - val_acc: 0.8620\n",
      "Epoch 16/20\n",
      "25000/25000 [==============================] - 2s 63us/sample - loss: 0.0451 - acc: 0.9869 - val_loss: 0.5522 - val_acc: 0.8573\n",
      "Epoch 17/20\n",
      "25000/25000 [==============================] - 2s 63us/sample - loss: 0.0322 - acc: 0.9924 - val_loss: 0.5835 - val_acc: 0.8573\n",
      "Epoch 18/20\n",
      "25000/25000 [==============================] - 2s 64us/sample - loss: 0.0327 - acc: 0.9924 - val_loss: 0.6139 - val_acc: 0.8574\n",
      "Epoch 19/20\n",
      "25000/25000 [==============================] - 2s 64us/sample - loss: 0.0282 - acc: 0.9927 - val_loss: 0.6397 - val_acc: 0.8553\n",
      "Epoch 20/20\n",
      "25000/25000 [==============================] - 2s 65us/sample - loss: 0.0207 - acc: 0.9951 - val_loss: 0.6921 - val_acc: 0.8519\n"
     ]
    }
   ],
   "source": [
    "res = mod.fit(train_data, train_label, batch_size=512, epochs=20, validation_data=(test_data, test_label))"
   ]
  },
  {
   "cell_type": "code",
   "execution_count": 138,
   "metadata": {},
   "outputs": [
    {
     "data": {
      "text/plain": [
       "dict_keys(['loss', 'acc', 'val_loss', 'val_acc'])"
      ]
     },
     "execution_count": 138,
     "metadata": {},
     "output_type": "execute_result"
    }
   ],
   "source": [
    "res.history.keys()"
   ]
  },
  {
   "cell_type": "code",
   "execution_count": 145,
   "metadata": {},
   "outputs": [
    {
     "data": {
      "text/plain": [
       "[<matplotlib.lines.Line2D at 0x7ff1dc60deb8>]"
      ]
     },
     "execution_count": 145,
     "metadata": {},
     "output_type": "execute_result"
    },
    {
     "data": {
      "image/png": "[encoded data removed]",
      "text/plain": [
       "<Figure size 864x288 with 2 Axes>"
      ]
     },
     "metadata": {
      "needs_background": "light"
     },
     "output_type": "display_data"
    }
   ],
   "source": [
    "plt.figure(figsize=(12, 4))\n",
    "\n",
    "plt.subplot(1, 2, 1)\n",
    "plt.plot(res.history[\"loss\"])\n",
    "plt.plot(res.history[\"val_loss\"])\n",
    "\n",
    "plt.subplot(1, 2, 2)\n",
    "plt.plot(res.history[\"acc\"])\n",
    "plt.plot(res.history[\"val_acc\"])"
   ]
  },
  {
   "cell_type": "markdown",
   "metadata": {},
   "source": [
    "レイヤー数を変えてみる。"
   ]
  },
  {
   "cell_type": "code",
   "execution_count": 18,
   "metadata": {},
   "outputs": [
    {
     "name": "stdout",
     "output_type": "stream",
     "text": [
      "Train on 25000 samples, validate on 25000 samples\n",
      "Epoch 1/20\n",
      "25000/25000 [==============================] - 2s 71us/sample - loss: 0.4873 - acc: 0.7931 - val_loss: 0.3669 - val_acc: 0.8729\n",
      "Epoch 2/20\n",
      "25000/25000 [==============================] - 2s 64us/sample - loss: 0.2979 - acc: 0.9003 - val_loss: 0.3125 - val_acc: 0.8824\n",
      "Epoch 3/20\n",
      "25000/25000 [==============================] - 2s 63us/sample - loss: 0.2366 - acc: 0.9196 - val_loss: 0.2895 - val_acc: 0.8888\n",
      "Epoch 4/20\n",
      "25000/25000 [==============================] - 2s 63us/sample - loss: 0.2016 - acc: 0.9315 - val_loss: 0.2864 - val_acc: 0.8893\n",
      "Epoch 5/20\n",
      "25000/25000 [==============================] - 2s 63us/sample - loss: 0.1752 - acc: 0.9412 - val_loss: 0.2903 - val_acc: 0.8864\n",
      "Epoch 6/20\n",
      "25000/25000 [==============================] - 2s 63us/sample - loss: 0.1577 - acc: 0.9460 - val_loss: 0.3106 - val_acc: 0.8815\n",
      "Epoch 7/20\n",
      "25000/25000 [==============================] - 2s 64us/sample - loss: 0.1424 - acc: 0.9521 - val_loss: 0.3203 - val_acc: 0.8788\n",
      "Epoch 8/20\n",
      "25000/25000 [==============================] - 2s 63us/sample - loss: 0.1296 - acc: 0.9577 - val_loss: 0.3213 - val_acc: 0.8796\n",
      "Epoch 9/20\n",
      "25000/25000 [==============================] - 2s 63us/sample - loss: 0.1185 - acc: 0.9607 - val_loss: 0.3320 - val_acc: 0.8776\n",
      "Epoch 10/20\n",
      "25000/25000 [==============================] - 2s 62us/sample - loss: 0.1087 - acc: 0.9654 - val_loss: 0.3445 - val_acc: 0.8743\n",
      "Epoch 11/20\n",
      "25000/25000 [==============================] - 2s 62us/sample - loss: 0.0991 - acc: 0.9691 - val_loss: 0.3612 - val_acc: 0.8715\n",
      "Epoch 12/20\n",
      "25000/25000 [==============================] - 2s 63us/sample - loss: 0.0909 - acc: 0.9721 - val_loss: 0.3840 - val_acc: 0.8683\n",
      "Epoch 13/20\n",
      "25000/25000 [==============================] - 2s 64us/sample - loss: 0.0857 - acc: 0.9741 - val_loss: 0.3872 - val_acc: 0.8691\n",
      "Epoch 14/20\n",
      "25000/25000 [==============================] - 2s 62us/sample - loss: 0.0796 - acc: 0.9750 - val_loss: 0.3993 - val_acc: 0.8684\n",
      "Epoch 15/20\n",
      "25000/25000 [==============================] - 2s 63us/sample - loss: 0.0696 - acc: 0.9806 - val_loss: 0.6158 - val_acc: 0.8325\n",
      "Epoch 16/20\n",
      "25000/25000 [==============================] - 2s 63us/sample - loss: 0.0667 - acc: 0.9811 - val_loss: 0.4580 - val_acc: 0.8603\n",
      "Epoch 17/20\n",
      "25000/25000 [==============================] - 2s 63us/sample - loss: 0.0612 - acc: 0.9828 - val_loss: 0.4623 - val_acc: 0.8594\n",
      "Epoch 18/20\n",
      "25000/25000 [==============================] - 2s 64us/sample - loss: 0.0562 - acc: 0.9850 - val_loss: 0.4648 - val_acc: 0.8626\n",
      "Epoch 19/20\n",
      "25000/25000 [==============================] - 2s 63us/sample - loss: 0.0523 - acc: 0.9852 - val_loss: 0.5041 - val_acc: 0.8587\n",
      "Epoch 20/20\n",
      "25000/25000 [==============================] - 2s 61us/sample - loss: 0.0493 - acc: 0.9868 - val_loss: 0.5000 - val_acc: 0.8590\n"
     ]
    },
    {
     "data": {
      "text/plain": [
       "[<matplotlib.lines.Line2D at 0x7feb1f246390>]"
      ]
     },
     "execution_count": 18,
     "metadata": {},
     "output_type": "execute_result"
    },
    {
     "data": {
      "image/png": "[encoded data removed]",
      "text/plain": [
       "<Figure size 864x288 with 2 Axes>"
      ]
     },
     "metadata": {
      "needs_background": "light"
     },
     "output_type": "display_data"
    }
   ],
   "source": [
    "mod = models.Sequential()\n",
    "mod.add(layers.Dense(16, activations.relu, input_shape=(len(dv.feature_names_),)))\n",
    "mod.add(layers.Dense(1, activations.sigmoid))\n",
    "mod.compile(optimizers.RMSprop(), losses.binary_crossentropy, metrics=[\"acc\"])\n",
    "res = mod.fit(train_data, train_label, batch_size=512, epochs=20, validation_data=(test_data, test_label))\n",
    "\n",
    "plt.figure(figsize=(12, 4))\n",
    "\n",
    "plt.subplot(1, 2, 1)\n",
    "plt.plot(res.history[\"loss\"])\n",
    "plt.plot(res.history[\"val_loss\"])\n",
    "\n",
    "plt.subplot(1, 2, 2)\n",
    "plt.plot(res.history[\"acc\"])\n",
    "plt.plot(res.history[\"val_acc\"])"
   ]
  },
  {
   "cell_type": "markdown",
   "metadata": {},
   "source": [
    "# 多クラス分類問題"
   ]
  },
  {
   "cell_type": "code",
   "execution_count": 289,
   "metadata": {},
   "outputs": [],
   "source": [
    "num_words = 10000\n",
    "(train_data_raw, train_label_raw), (test_data_raw, test_label_raw) = datasets.reuters.load_data(num_words=num_words)"
   ]
  },
  {
   "cell_type": "code",
   "execution_count": 295,
   "metadata": {},
   "outputs": [
    {
     "name": "stdout",
     "output_type": "stream",
     "text": [
      "(8982, 10000)\n",
      "(2246, 10000)\n",
      "(8982, 46)\n",
      "(2246, 46)\n"
     ]
    }
   ],
   "source": [
    "train_data = np.zeros((train_data_raw.size, num_words), dtype=np.float)\n",
    "test_data = np.zeros((test_data_raw.size, num_words), dtype=np.float)\n",
    "\n",
    "for i, item in enumerate(train_data_raw):\n",
    "    train_data[i, item] = 1\n",
    "for i, item in enumerate(test_data_raw):\n",
    "    test_data[i, item] = 1\n",
    "    \n",
    "train_label = utils.to_categorical(train_label_raw)\n",
    "test_label = utils.to_categorical(test_label_raw)\n",
    "\n",
    "print(train_data.shape)\n",
    "print(test_data.shape)\n",
    "print(train_label.shape)\n",
    "print(test_label.shape)"
   ]
  },
  {
   "cell_type": "code",
   "execution_count": 338,
   "metadata": {},
   "outputs": [],
   "source": [
    "# dv = DictVectorizer(dtype=np.int)\n",
    "# train_data = dv.fit_transform([collections.Counter(item) for item in train_data_raw])\n",
    "# test_data = dv.transform([collections.Counter(item) for item in test_data_raw])\n",
    "\n",
    "# train_data = (train_data.toarray() > 0).astype(np.float)\n",
    "# test_data = (test_data.toarray() > 0).astype(np.float)\n",
    "\n",
    "# train_label = utils.to_categorical(train_label_raw)\n",
    "# test_label = utils.to_categorical(test_label_raw)"
   ]
  },
  {
   "cell_type": "code",
   "execution_count": 376,
   "metadata": {},
   "outputs": [
    {
     "name": "stdout",
     "output_type": "stream",
     "text": [
      "Train on 8982 samples, validate on 2246 samples\n",
      "Epoch 1/20\n",
      "8982/8982 [==============================] - 2s 270us/sample - loss: 2.4957 - acc: 0.5404 - val_loss: 1.6701 - val_acc: 0.6509\n",
      "Epoch 2/20\n",
      "8982/8982 [==============================] - 0s 50us/sample - loss: 1.3524 - acc: 0.7104 - val_loss: 1.3070 - val_acc: 0.7150\n",
      "Epoch 3/20\n",
      "8982/8982 [==============================] - 0s 49us/sample - loss: 1.0079 - acc: 0.7862 - val_loss: 1.1470 - val_acc: 0.7524\n",
      "Epoch 4/20\n",
      "8982/8982 [==============================] - 0s 51us/sample - loss: 0.7929 - acc: 0.8347 - val_loss: 1.0472 - val_acc: 0.7720\n",
      "Epoch 5/20\n",
      "8982/8982 [==============================] - 0s 50us/sample - loss: 0.6275 - acc: 0.8690 - val_loss: 0.9769 - val_acc: 0.7814\n",
      "Epoch 6/20\n",
      "8982/8982 [==============================] - 0s 51us/sample - loss: 0.4976 - acc: 0.8953 - val_loss: 0.9465 - val_acc: 0.7854\n",
      "Epoch 7/20\n",
      "8982/8982 [==============================] - 0s 50us/sample - loss: 0.4014 - acc: 0.9148 - val_loss: 0.9325 - val_acc: 0.7912\n",
      "Epoch 8/20\n",
      "8982/8982 [==============================] - 0s 50us/sample - loss: 0.3259 - acc: 0.9275 - val_loss: 0.9205 - val_acc: 0.7974\n",
      "Epoch 9/20\n",
      "8982/8982 [==============================] - 0s 48us/sample - loss: 0.2769 - acc: 0.9365 - val_loss: 0.9501 - val_acc: 0.7934\n",
      "Epoch 10/20\n",
      "8982/8982 [==============================] - 0s 50us/sample - loss: 0.2312 - acc: 0.9440 - val_loss: 0.9547 - val_acc: 0.7934\n",
      "Epoch 11/20\n",
      "8982/8982 [==============================] - 0s 50us/sample - loss: 0.2045 - acc: 0.9477 - val_loss: 0.9804 - val_acc: 0.7939\n",
      "Epoch 12/20\n",
      "8982/8982 [==============================] - 0s 51us/sample - loss: 0.1795 - acc: 0.9513 - val_loss: 1.0414 - val_acc: 0.7894\n",
      "Epoch 13/20\n",
      "8982/8982 [==============================] - 0s 52us/sample - loss: 0.1624 - acc: 0.9528 - val_loss: 1.0209 - val_acc: 0.7974\n",
      "Epoch 14/20\n",
      "8982/8982 [==============================] - 0s 52us/sample - loss: 0.1536 - acc: 0.9538 - val_loss: 1.0889 - val_acc: 0.7858\n",
      "Epoch 15/20\n",
      "8982/8982 [==============================] - 0s 51us/sample - loss: 0.1411 - acc: 0.9522 - val_loss: 1.1087 - val_acc: 0.7863\n",
      "Epoch 16/20\n",
      "8982/8982 [==============================] - 0s 48us/sample - loss: 0.1346 - acc: 0.9538 - val_loss: 1.1116 - val_acc: 0.7898\n",
      "Epoch 17/20\n",
      "8982/8982 [==============================] - 0s 49us/sample - loss: 0.1293 - acc: 0.9557 - val_loss: 1.1458 - val_acc: 0.7903\n",
      "Epoch 18/20\n",
      "8982/8982 [==============================] - 0s 49us/sample - loss: 0.1189 - acc: 0.9565 - val_loss: 1.1651 - val_acc: 0.7876\n",
      "Epoch 19/20\n",
      "8982/8982 [==============================] - 0s 50us/sample - loss: 0.1190 - acc: 0.9567 - val_loss: 1.1649 - val_acc: 0.7885\n",
      "Epoch 20/20\n",
      "8982/8982 [==============================] - 0s 49us/sample - loss: 0.1153 - acc: 0.9556 - val_loss: 1.2246 - val_acc: 0.7872\n"
     ]
    }
   ],
   "source": [
    "mod = models.Sequential()\n",
    "mod.add(layers.Dense(64, activations.relu, input_shape=(train_data.shape[1],)))\n",
    "mod.add(layers.Dense(64, activations.relu))\n",
    "mod.add(layers.Dense(46, activations.softmax))\n",
    "mod.compile(\"rmsprop\", loss=\"categorical_crossentropy\", metrics=[\"acc\"])\n",
    "res = mod.fit(train_data, train_label, batch_size=512, epochs=20, validation_data=(test_data, test_label))"
   ]
  },
  {
   "cell_type": "code",
   "execution_count": 375,
   "metadata": {},
   "outputs": [
    {
     "data": {
      "text/plain": [
       "[<matplotlib.lines.Line2D at 0x7fe85652f7f0>]"
      ]
     },
     "execution_count": 375,
     "metadata": {},
     "output_type": "execute_result"
    },
    {
     "data": {
      "image/png": "[encoded data removed]",
      "text/plain": [
       "<Figure size 432x288 with 1 Axes>"
      ]
     },
     "metadata": {
      "needs_background": "light"
     },
     "output_type": "display_data"
    }
   ],
   "source": [
    "plt.plot(res.history[\"loss\"], \"o\", ms=3)\n",
    "plt.plot(res.history[\"val_loss\"])"
   ]
  },
  {
   "cell_type": "markdown",
   "metadata": {},
   "source": [
    "OneHotエンコードせずに訓練する事も可能。その場合には損失関数にスパース版を使う。数学的には不通の交差エントロピーと同一になる。"
   ]
  },
  {
   "cell_type": "code",
   "execution_count": 393,
   "metadata": {},
   "outputs": [
    {
     "name": "stdout",
     "output_type": "stream",
     "text": [
      "Train on 8982 samples, validate on 2246 samples\n",
      "Epoch 1/20\n",
      "8982/8982 [==============================] - 3s 300us/sample - loss: 2.6243 - acc: 0.5156 - val_loss: 1.7784 - val_acc: 0.6616\n",
      "Epoch 2/20\n",
      "8982/8982 [==============================] - 1s 66us/sample - loss: 1.4121 - acc: 0.7081 - val_loss: 1.3331 - val_acc: 0.7004\n",
      "Epoch 3/20\n",
      "8982/8982 [==============================] - 1s 66us/sample - loss: 1.0368 - acc: 0.7741 - val_loss: 1.1604 - val_acc: 0.7400\n",
      "Epoch 4/20\n",
      "8982/8982 [==============================] - 1s 66us/sample - loss: 0.8177 - acc: 0.8265 - val_loss: 1.0777 - val_acc: 0.7551\n",
      "Epoch 5/20\n",
      "8982/8982 [==============================] - 1s 65us/sample - loss: 0.6494 - acc: 0.8644 - val_loss: 0.9971 - val_acc: 0.7854\n",
      "Epoch 6/20\n",
      "8982/8982 [==============================] - 1s 64us/sample - loss: 0.5163 - acc: 0.8968 - val_loss: 0.9482 - val_acc: 0.7867\n",
      "Epoch 7/20\n",
      "8982/8982 [==============================] - 1s 66us/sample - loss: 0.4178 - acc: 0.9153 - val_loss: 0.9252 - val_acc: 0.7894\n",
      "Epoch 8/20\n",
      "8982/8982 [==============================] - 1s 65us/sample - loss: 0.3442 - acc: 0.9279 - val_loss: 0.9269 - val_acc: 0.7907\n",
      "Epoch 9/20\n",
      "8982/8982 [==============================] - 1s 65us/sample - loss: 0.2830 - acc: 0.9387 - val_loss: 0.9437 - val_acc: 0.7939\n",
      "Epoch 10/20\n",
      "8982/8982 [==============================] - 1s 65us/sample - loss: 0.2447 - acc: 0.9431 - val_loss: 0.9468 - val_acc: 0.7965\n",
      "Epoch 11/20\n",
      "8982/8982 [==============================] - 1s 66us/sample - loss: 0.2062 - acc: 0.9493 - val_loss: 0.9665 - val_acc: 0.7947\n",
      "Epoch 12/20\n",
      "8982/8982 [==============================] - 1s 66us/sample - loss: 0.1845 - acc: 0.9508 - val_loss: 0.9794 - val_acc: 0.8010\n",
      "Epoch 13/20\n",
      "8982/8982 [==============================] - 1s 63us/sample - loss: 0.1701 - acc: 0.9502 - val_loss: 1.0103 - val_acc: 0.7947\n",
      "Epoch 14/20\n",
      "8982/8982 [==============================] - 1s 66us/sample - loss: 0.1516 - acc: 0.9545 - val_loss: 1.0483 - val_acc: 0.7956\n",
      "Epoch 15/20\n",
      "8982/8982 [==============================] - 1s 65us/sample - loss: 0.1475 - acc: 0.9542 - val_loss: 1.0994 - val_acc: 0.7921\n",
      "Epoch 16/20\n",
      "8982/8982 [==============================] - 1s 66us/sample - loss: 0.1393 - acc: 0.9531 - val_loss: 1.0597 - val_acc: 0.8005\n",
      "Epoch 17/20\n",
      "8982/8982 [==============================] - 1s 65us/sample - loss: 0.1302 - acc: 0.9545 - val_loss: 1.0914 - val_acc: 0.8014\n",
      "Epoch 18/20\n",
      "8982/8982 [==============================] - 1s 65us/sample - loss: 0.1273 - acc: 0.9534 - val_loss: 1.1255 - val_acc: 0.7974\n",
      "Epoch 19/20\n",
      "8982/8982 [==============================] - 1s 66us/sample - loss: 0.1245 - acc: 0.9538 - val_loss: 1.1550 - val_acc: 0.7921\n",
      "Epoch 20/20\n",
      "8982/8982 [==============================] - 1s 67us/sample - loss: 0.1164 - acc: 0.9550 - val_loss: 1.2028 - val_acc: 0.7872\n"
     ]
    }
   ],
   "source": [
    "mod = models.Sequential()\n",
    "mod.add(layers.Dense(64, activations.relu, input_shape=(train_data.shape[1],)))\n",
    "mod.add(layers.Dense(64, activations.relu))\n",
    "mod.add(layers.Dense(46, activations.softmax))\n",
    "mod.compile(\"rmsprop\", loss=\"sparse_categorical_crossentropy\", metrics=[\"acc\"])\n",
    "res = mod.fit(train_data, train_label_raw, batch_size=512, epochs=20, validation_data=(test_data, test_label_raw))"
   ]
  },
  {
   "cell_type": "code",
   "execution_count": 399,
   "metadata": {},
   "outputs": [
    {
     "data": {
      "text/plain": [
       "[<matplotlib.lines.Line2D at 0x7fe8535ec8d0>]"
      ]
     },
     "execution_count": 399,
     "metadata": {},
     "output_type": "execute_result"
    },
    {
     "data": {
      "image/png": "[encoded data removed]",
      "text/plain": [
       "<Figure size 432x288 with 1 Axes>"
      ]
     },
     "metadata": {
      "needs_background": "light"
     },
     "output_type": "display_data"
    }
   ],
   "source": [
    "plt.plot(res.history[\"loss\"], \"o\", ms=3)\n",
    "plt.plot(res.history[\"val_loss\"])"
   ]
  },
  {
   "cell_type": "markdown",
   "metadata": {},
   "source": [
    "# 回帰問題\n",
    "損失関数には平均二乗誤差、評価指標に平均絶対誤差を使う。"
   ]
  },
  {
   "cell_type": "code",
   "execution_count": 397,
   "metadata": {},
   "outputs": [
    {
     "name": "stdout",
     "output_type": "stream",
     "text": [
      "Downloading data from https://storage.googleapis.com/tensorflow/tf-keras-datasets/boston_housing.npz\n",
      "57344/57026 [==============================] - 0s 0us/step\n"
     ]
    }
   ],
   "source": [
    "(train_data_raw, train_label_raw), (test_data_raw, test_label_raw) = datasets.boston_housing.load_data()"
   ]
  },
  {
   "cell_type": "code",
   "execution_count": 437,
   "metadata": {},
   "outputs": [],
   "source": [
    "ss = prep.StandardScaler()\n",
    "train_data = ss.fit_transform(train_data_raw)\n",
    "test_data = ss.transform(test_data_raw)\n",
    "\n",
    "train_label = train_label_raw\n",
    "test_label = test_label_raw"
   ]
  },
  {
   "cell_type": "code",
   "execution_count": 408,
   "metadata": {},
   "outputs": [],
   "source": [
    "mod = models.Sequential()"
   ]
  },
  {
   "cell_type": "code",
   "execution_count": 439,
   "metadata": {},
   "outputs": [
    {
     "name": "stdout",
     "output_type": "stream",
     "text": [
      "(404, 13)\n",
      "(404,)\n"
     ]
    }
   ],
   "source": [
    "print(train_data.shape)\n",
    "print(train_label.shape)"
   ]
  },
  {
   "cell_type": "code",
   "execution_count": 464,
   "metadata": {},
   "outputs": [
    {
     "name": "stdout",
     "output_type": "stream",
     "text": [
      "Train on 404 samples, validate on 102 samples\n",
      "Epoch 1/20\n",
      "404/404 [==============================] - 5s 12ms/sample - loss: 609.6815 - mean_absolute_error: 22.9140 - val_loss: 634.6987 - val_mean_absolute_error: 23.4831\n",
      "Epoch 2/20\n",
      "404/404 [==============================] - 0s 334us/sample - loss: 603.2080 - mean_absolute_error: 22.7722 - val_loss: 630.4352 - val_mean_absolute_error: 23.3921\n",
      "Epoch 3/20\n",
      "404/404 [==============================] - 0s 292us/sample - loss: 599.4363 - mean_absolute_error: 22.6893 - val_loss: 627.4000 - val_mean_absolute_error: 23.3272\n",
      "Epoch 4/20\n",
      "404/404 [==============================] - 0s 307us/sample - loss: 596.6451 - mean_absolute_error: 22.6282 - val_loss: 624.8848 - val_mean_absolute_error: 23.2732\n",
      "Epoch 5/20\n",
      "404/404 [==============================] - 0s 334us/sample - loss: 594.3597 - mean_absolute_error: 22.5770 - val_loss: 622.8826 - val_mean_absolute_error: 23.2301\n",
      "Epoch 6/20\n",
      "404/404 [==============================] - 0s 292us/sample - loss: 592.4837 - mean_absolute_error: 22.5358 - val_loss: 621.0380 - val_mean_absolute_error: 23.1904\n",
      "Epoch 7/20\n",
      "404/404 [==============================] - 0s 324us/sample - loss: 590.7419 - mean_absolute_error: 22.4973 - val_loss: 619.4342 - val_mean_absolute_error: 23.1558\n",
      "Epoch 8/20\n",
      "404/404 [==============================] - 0s 351us/sample - loss: 589.2104 - mean_absolute_error: 22.4630 - val_loss: 617.9077 - val_mean_absolute_error: 23.1228\n",
      "Epoch 9/20\n",
      "404/404 [==============================] - 0s 352us/sample - loss: 587.7826 - mean_absolute_error: 22.4313 - val_loss: 616.5175 - val_mean_absolute_error: 23.0927\n",
      "Epoch 10/20\n",
      "404/404 [==============================] - 0s 324us/sample - loss: 586.4564 - mean_absolute_error: 22.4017 - val_loss: 615.3145 - val_mean_absolute_error: 23.0667\n",
      "Epoch 11/20\n",
      "404/404 [==============================] - 0s 329us/sample - loss: 585.4258 - mean_absolute_error: 22.3788 - val_loss: 614.5400 - val_mean_absolute_error: 23.0499\n",
      "Epoch 12/20\n",
      "404/404 [==============================] - 0s 314us/sample - loss: 584.6828 - mean_absolute_error: 22.3621 - val_loss: 613.8071 - val_mean_absolute_error: 23.0340\n",
      "Epoch 13/20\n",
      "404/404 [==============================] - 0s 310us/sample - loss: 583.9812 - mean_absolute_error: 22.3463 - val_loss: 613.1077 - val_mean_absolute_error: 23.0188\n",
      "Epoch 14/20\n",
      "404/404 [==============================] - 0s 319us/sample - loss: 583.3108 - mean_absolute_error: 22.3313 - val_loss: 612.4444 - val_mean_absolute_error: 23.0044\n",
      "Epoch 15/20\n",
      "404/404 [==============================] - 0s 327us/sample - loss: 582.6742 - mean_absolute_error: 22.3171 - val_loss: 611.8033 - val_mean_absolute_error: 22.9904\n",
      "Epoch 16/20\n",
      "404/404 [==============================] - 0s 287us/sample - loss: 582.0632 - mean_absolute_error: 22.3035 - val_loss: 611.2131 - val_mean_absolute_error: 22.9776\n",
      "Epoch 17/20\n",
      "404/404 [==============================] - 0s 292us/sample - loss: 581.4984 - mean_absolute_error: 22.2907 - val_loss: 610.6451 - val_mean_absolute_error: 22.9652\n",
      "Epoch 18/20\n",
      "404/404 [==============================] - 0s 314us/sample - loss: 580.9546 - mean_absolute_error: 22.2786 - val_loss: 610.1152 - val_mean_absolute_error: 22.9537\n",
      "Epoch 19/20\n",
      "404/404 [==============================] - 0s 315us/sample - loss: 580.4616 - mean_absolute_error: 22.2675 - val_loss: 609.6091 - val_mean_absolute_error: 22.9427\n",
      "Epoch 20/20\n",
      "404/404 [==============================] - 0s 323us/sample - loss: 579.9637 - mean_absolute_error: 22.2562 - val_loss: 609.1194 - val_mean_absolute_error: 22.9320\n"
     ]
    },
    {
     "data": {
      "text/plain": [
       "[<matplotlib.lines.Line2D at 0x7fe83fa96128>]"
      ]
     },
     "execution_count": 464,
     "metadata": {},
     "output_type": "execute_result"
    },
    {
     "data": {
      "image/png": "[encoded data removed]",
      "text/plain": [
       "<Figure size 432x288 with 1 Axes>"
      ]
     },
     "metadata": {
      "needs_background": "light"
     },
     "output_type": "display_data"
    }
   ],
   "source": [
    "mod.add(layers.Dense(8, \"relu\", input_shape=(train_data.shape[1],)))\n",
    "mod.add(layers.Dense(8, \"relu\"))\n",
    "mod.add(layers.Dense(1))\n",
    "mod.compile(\"RMSProp\", loss=\"mse\", metrics=[\"mae\"])\n",
    "res = mod.fit(train_data, train_label, batch_size=128, epochs=20, validation_data=(test_data, test_label))\n",
    "\n",
    "plt.plot(res.history[\"loss\"])\n",
    "plt.plot(res.history[\"val_loss\"])"
   ]
  },
  {
   "cell_type": "code",
   "execution_count": 451,
   "metadata": {},
   "outputs": [
    {
     "data": {
      "text/plain": [
       "dict_keys(['loss', 'mean_absolute_error', 'val_loss', 'val_mean_absolute_error'])"
      ]
     },
     "execution_count": 451,
     "metadata": {},
     "output_type": "execute_result"
    }
   ],
   "source": [
    "res.history.keys()"
   ]
  },
  {
   "cell_type": "code",
   "execution_count": 465,
   "metadata": {},
   "outputs": [
    {
     "data": {
      "text/plain": [
       "[<matplotlib.lines.Line2D at 0x7fe83f952ac8>]"
      ]
     },
     "execution_count": 465,
     "metadata": {},
     "output_type": "execute_result"
    },
    {
     "data": {
      "image/png": "[encoded data removed]",
      "text/plain": [
       "<Figure size 432x288 with 1 Axes>"
      ]
     },
     "metadata": {
      "needs_background": "light"
     },
     "output_type": "display_data"
    }
   ],
   "source": [
    "plt.plot(res.history[\"mean_absolute_error\"])\n",
    "plt.plot(res.history[\"val_mean_absolute_error\"])"
   ]
  }
 ],
 "metadata": {
  "kernelspec": {
   "display_name": "Python 3",
   "language": "python",
   "name": "python3"
  },
  "language_info": {
   "codemirror_mode": {
    "name": "ipython",
    "version": 3
   },
   "file_extension": ".py",
   "mimetype": "text/x-python",
   "name": "python",
   "nbconvert_exporter": "python",
   "pygments_lexer": "ipython3",
   "version": "3.7.3"
  }
 },
 "nbformat": 4,
 "nbformat_minor": 2
}
