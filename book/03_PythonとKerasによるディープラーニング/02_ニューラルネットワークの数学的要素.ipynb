{
 "cells": [
  {
   "cell_type": "code",
   "execution_count": 83,
   "metadata": {},
   "outputs": [],
   "source": [
    "import numpy as np\n",
    "import matplotlib.pyplot as plt\n",
    "import tensorflow.keras as keras\n",
    "\n",
    "%matplotlib inline"
   ]
  },
  {
   "cell_type": "markdown",
   "metadata": {},
   "source": [
    "# 初めてのニューラルネットワーク\n",
    "\n",
    "## サンプルデータを用意 (MNIST)"
   ]
  },
  {
   "cell_type": "code",
   "execution_count": 69,
   "metadata": {},
   "outputs": [
    {
     "name": "stdout",
     "output_type": "stream",
     "text": [
      "(60000, 28, 28)\n",
      "(60000,)\n"
     ]
    },
    {
     "data": {
      "text/plain": [
       "array([5, 0, 4, 1, 9, 2, 1, 3, 1, 4], dtype=uint8)"
      ]
     },
     "execution_count": 69,
     "metadata": {},
     "output_type": "execute_result"
    }
   ],
   "source": [
    "(train_images, train_labels), (test_images, test_labels) = keras.datasets.mnist.load_data()\n",
    "\n",
    "print(train_images.shape)\n",
    "print(train_labels.shape)\n",
    "train_labels[:10]"
   ]
  },
  {
   "cell_type": "markdown",
   "metadata": {},
   "source": [
    "## 全結合2層NN を定義\n",
    "層(layer)がデータ処理を行う。  \n",
    "層からは表現(representation)が抽出され、これを重ねる事でデータ蒸留(data distillation)が実装される。\n",
    "定義は以下からなる。モデル定義は層を積み、コンパイルで損失関数、オプティマイザなどを指定する事で行う。\n",
    "\n",
    "* 層: 全結合(Dense)2層NN\n",
    "* 活性化関数: 活性化関数にはrelu, softmaxを使用\n",
    "* 損失関数: 交差エントロピーの一種を使用\n",
    "* オプティマイザ: RMSProp\n",
    "* 評価指標: 正解率を使用"
   ]
  },
  {
   "cell_type": "code",
   "execution_count": 70,
   "metadata": {},
   "outputs": [],
   "source": [
    "mod = keras.models.Sequential()\n",
    "mod.add(keras.layers.Dense(512, \"relu\", input_shape=(28 * 28,)))\n",
    "mod.add(keras.layers.Dense(10, \"softmax\"))\n",
    "mod.compile(\"rmsprop\", \"categorical_crossentropy\", [\"accuracy\"])"
   ]
  },
  {
   "cell_type": "markdown",
   "metadata": {},
   "source": [
    "入力データを作成。一般に0～1の浮動小数点にする。"
   ]
  },
  {
   "cell_type": "code",
   "execution_count": 71,
   "metadata": {},
   "outputs": [],
   "source": [
    "from sklearn.preprocessing import MinMaxScaler, OneHotEncoder\n",
    "mms = MinMaxScaler()\n",
    "\n",
    "train_data = train_images.reshape(-1, 28 * 28)\n",
    "train_data = train_data.astype(np.float32)\n",
    "train_data = mms.fit_transform(train_data)\n",
    "\n",
    "test_data = test_images.reshape(-1, 28 * 28)\n",
    "test_data = test_data.astype(np.float32)\n",
    "test_data = mms.transform(test_data)"
   ]
  },
  {
   "cell_type": "markdown",
   "metadata": {},
   "source": [
    "教師データはクラス分類問題では1 of K符号化(OneHotエンコード)して使う。"
   ]
  },
  {
   "cell_type": "code",
   "execution_count": 65,
   "metadata": {},
   "outputs": [],
   "source": [
    "train_y = keras.utils.to_categorical(train_labels)\n",
    "test_y = keras.utils.to_categorical(test_labels)"
   ]
  },
  {
   "cell_type": "code",
   "execution_count": 76,
   "metadata": {},
   "outputs": [],
   "source": [
    "ohe = OneHotEncoder(categories=\"auto\")\n",
    "train_y = ohe.fit_transform(train_labels.reshape(-1, 1))\n",
    "test_y = ohe.transform(test_labels.reshape(-1, 1))"
   ]
  },
  {
   "cell_type": "markdown",
   "metadata": {},
   "source": [
    "訓練を行う"
   ]
  },
  {
   "cell_type": "code",
   "execution_count": 89,
   "metadata": {},
   "outputs": [
    {
     "name": "stdout",
     "output_type": "stream",
     "text": [
      "訓練\n",
      "Train on 60000 samples, validate on 10000 samples\n",
      "Epoch 1/5\n",
      "60000/60000 [==============================] - 2s 28us/sample - loss: 0.0026 - acc: 0.9992 - val_loss: 0.0905 - val_acc: 0.9817\n",
      "Epoch 2/5\n",
      "60000/60000 [==============================] - 2s 28us/sample - loss: 0.0023 - acc: 0.9994 - val_loss: 0.0957 - val_acc: 0.9810\n",
      "Epoch 3/5\n",
      "60000/60000 [==============================] - 2s 28us/sample - loss: 0.0019 - acc: 0.9996 - val_loss: 0.0898 - val_acc: 0.9829\n",
      "Epoch 4/5\n",
      "60000/60000 [==============================] - 2s 28us/sample - loss: 0.0016 - acc: 0.9996 - val_loss: 0.0935 - val_acc: 0.9821\n",
      "Epoch 5/5\n",
      "60000/60000 [==============================] - 2s 27us/sample - loss: 0.0013 - acc: 0.9997 - val_loss: 0.0997 - val_acc: 0.9820\n",
      "10000/10000 [==============================] - 0s 42us/sample - loss: 0.0997 - acc: 0.9820\n",
      "評価\n",
      "0.09969505042314743 0.982\n"
     ]
    }
   ],
   "source": [
    "print(\"訓練\")\n",
    "res = mod.fit(train_data, train_y, epochs=5, batch_size=128, validation_data=(test_data, test_y))\n",
    "test_loss, test_acc = mod.evaluate(test_data, test_y)\n",
    "\n",
    "print(\"評価\")\n",
    "print(test_loss, test_acc)"
   ]
  },
  {
   "cell_type": "markdown",
   "metadata": {},
   "source": [
    "損失関数の減少を確認できる。"
   ]
  },
  {
   "cell_type": "code",
   "execution_count": 90,
   "metadata": {},
   "outputs": [
    {
     "data": {
      "text/plain": [
       "{'loss': [0.0026431887440849094,\n",
       "  0.002265103603284418,\n",
       "  0.001918518681038404,\n",
       "  0.0015562141937591756,\n",
       "  0.0012619193102252515],\n",
       " 'acc': [0.9992333, 0.99938333, 0.9995667, 0.9996167, 0.99965],\n",
       " 'val_loss': [0.09051122230030596,\n",
       "  0.09566159209730103,\n",
       "  0.0897760061882439,\n",
       "  0.09347652014617343,\n",
       "  0.09969505120813847],\n",
       " 'val_acc': [0.9817, 0.981, 0.9829, 0.9821, 0.982]}"
      ]
     },
     "execution_count": 90,
     "metadata": {},
     "output_type": "execute_result"
    }
   ],
   "source": [
    "res.history"
   ]
  },
  {
   "cell_type": "code",
   "execution_count": 98,
   "metadata": {},
   "outputs": [
    {
     "data": {
      "text/plain": [
       "[<matplotlib.lines.Line2D at 0x7f5ecc8ec9e8>]"
      ]
     },
     "execution_count": 98,
     "metadata": {},
     "output_type": "execute_result"
    },
    {
     "data": {
      "image/png": "[encoded data removed]",
      "text/plain": [
       "<Figure size 432x288 with 1 Axes>"
      ]
     },
     "metadata": {
      "needs_background": "light"
     },
     "output_type": "display_data"
    }
   ],
   "source": [
    "res.history\n",
    "plt.plot(res.history[\"loss\"])\n",
    "# plt.plot(res.history[\"val_loss\"])"
   ]
  },
  {
   "cell_type": "markdown",
   "metadata": {},
   "source": [
    "# 機械学習のデータ表現\n",
    "\n",
    "## テンソルの導入\n",
    "多くの機械学習では入力にテンソルを使う。軸の数はnumpyではndimに格納されている。軸は **階数(rank)** とも呼ばれる"
   ]
  },
  {
   "cell_type": "code",
   "execution_count": 116,
   "metadata": {},
   "outputs": [
    {
     "name": "stdout",
     "output_type": "stream",
     "text": [
      "1階のテンソル(ベクトル)\n",
      "2次元ベクトルと呼ばれる\n"
     ]
    },
    {
     "data": {
      "text/plain": [
       "array([0, 1])"
      ]
     },
     "execution_count": 116,
     "metadata": {},
     "output_type": "execute_result"
    }
   ],
   "source": [
    "print(\"1階のテンソル(ベクトル)\")\n",
    "print(\"2次元ベクトルと呼ばれる\")\n",
    "np.arange(2)"
   ]
  },
  {
   "cell_type": "code",
   "execution_count": 118,
   "metadata": {},
   "outputs": [
    {
     "name": "stdout",
     "output_type": "stream",
     "text": [
      "2階のテンソル(行列)\n",
      "2次元テンソルと呼ばれることもあり、ベクトルの次元との混同に注意\n"
     ]
    },
    {
     "data": {
      "text/plain": [
       "array([[0, 1, 2],\n",
       "       [3, 4, 5]])"
      ]
     },
     "execution_count": 118,
     "metadata": {},
     "output_type": "execute_result"
    }
   ],
   "source": [
    "print(\"2階のテンソル(行列)\")\n",
    "print(\"2次元テンソルと呼ばれることもあり、ベクトルの次元との混同に注意\")\n",
    "np.arange(6).reshape(2, 3)"
   ]
  },
  {
   "cell_type": "markdown",
   "metadata": {},
   "source": [
    "## テンソルの操作\n",
    "テンソルの特定の要素を選択する事を **テンソル分解** (tensor slicing)と呼ぶ。以下はMNISTのデータからサンプル軸を1つ切り出して表示している。"
   ]
  },
  {
   "cell_type": "code",
   "execution_count": 120,
   "metadata": {},
   "outputs": [
    {
     "data": {
      "text/plain": [
       "<matplotlib.image.AxesImage at 0x7f5ecc77d668>"
      ]
     },
     "execution_count": 120,
     "metadata": {},
     "output_type": "execute_result"
    },
    {
     "data": {
      "image/png": "[encoded data removed]",
      "text/plain": [
       "<Figure size 432x288 with 1 Axes>"
      ]
     },
     "metadata": {
      "needs_background": "light"
     },
     "output_type": "display_data"
    }
   ],
   "source": [
    "plt.imshow(train_images[0])"
   ]
  },
  {
   "cell_type": "markdown",
   "metadata": {},
   "source": [
    "## テンソルの現実的な例\n",
    "テンソルは実際のデータでは以下のような形で見ることが多い。一般に深層学習で使われるデータテンソルの最初の軸は **サンプル軸** (sample axis) になる。これは **サンプル次元** (sample dimension)とも呼ばれる。バッチ処理時の単位ともなるため、 **バッチ次元** (batch dimension) とも呼ばれる。画像や動画ではチャネルが高さ幅の後に来るチャネルラスト(Tensorflow)と、チャネルを高さ幅の前に持ってくるチャネルファースト(Theano)の2流派がある。\n",
    "\n",
    "* ベクトル: (sample, features)\n",
    "* 時系列データ、シーケンスデータ: (samples, timesteps, features)\n",
    "* 画像: (samples, height, width, channels)\n",
    "* 動画: (samples, frames, height, width, channels)"
   ]
  },
  {
   "cell_type": "markdown",
   "metadata": {},
   "source": [
    "# ニューラルネットワークの構造\n",
    "学習は以下の要素に基づいて行われる。\n",
    "\n",
    "* ネットワーク(モデル)として結合される層\n",
    "* 入力データと対応する目的地\n",
    "* 学習に使用されるフィードバックを定義する損失関数\n",
    "* 学習の進め方を決定するオプティマイザ\n",
    "\n",
    "## 層・モデル\n",
    "層は仮設空間が定義される場所であり、学習結果は **重み** によって表現される。モデルは複数の層として繋がっており、繋げ方は全結合以外にもある。入力が2階テンソルの場合には **全結合層** がよく用いられ、時系列の3階テンソルではLSTMな **リカレント層** が使われる。画像へは **畳み込み層** を用いることが多い。その他のバリエーションとして以下のものもある。\n",
    "\n",
    "* 2分岐ネットワーク\n",
    "* マルチヘッドネットワーク\n",
    "* インセプションブロック\n",
    "\n",
    "## 損失関数とオプティマイザ\n",
    "定番は以下のようにする。\n",
    "\n",
    "* 2値分類問題: 交差エントロピー\n",
    "* 他クラス分類問題: 他クラス交差エントロピー\n",
    "* 回帰問題: 平均二条誤差(MSE)\n",
    "* 系列学習問題: CTC(Connectionist Temporal Classification)"
   ]
  },
  {
   "cell_type": "markdown",
   "metadata": {},
   "source": [
    "# ニューラルネットワークの動作原理\n",
    "\n",
    "## テンソル演算 (ネットワーク)\n",
    "入力データを回転や拡大縮小を通し有益な表現へ変換(幾何学演算)することはテンソル演算で表現できる。ニューラルネットワークは層ごとに以下の計算式が定義され、複数層によるテンソル演算を通して表現を有益なものへ変換する。\n",
    "\n",
    "$$\n",
    "\\begin{align}\n",
    "    \\boldsymbol{Y} = \\varphi(\\boldsymbol{X} \\boldsymbol{W})\n",
    "\\end{align}\n",
    "$$\n",
    "\n",
    "## 誤差の計算 (損失関数)\n",
    "**重み** (weight)の学習は **訓練ループ** (training loop) の中で行われる。学習はフィードバックとして損失関数(E)の **勾配** を計算し、逆向きに重みを更新することで行う。モデルは微分可能な式で作られており、複数層をまたいだ微分は **連鎖率** によって求めることが可能。この原理を利用した **バックプロパゲーション** (誤差逆伝播法、リバースモード微分(reverse-mode differentiation)) アルゴリズムが学習には用いられる。現代のライブラリでは自動的に求められるものが多い (**数式微分**)\n",
    "\n",
    "$$\n",
    "\\begin{align}\n",
    "    E = Y - Y^{\\prime}\n",
    "\\end{align}\n",
    "$$\n",
    "\n",
    "* 訓練データと対応する目的地をバッチデータとして抽出\n",
    "* モデルを実行し予測値を取得 (**フォワードパス**)\n",
    "* 損失値を計算\n",
    "* 損失値が小さくなるよう重みを更新\n",
    "\n",
    "## 重みの更新 (オプティマイザ)\n",
    "求めた勾配から重み更新を行う際のアルゴリズムには幾つかある。**オプティマイザ** と呼ばれ、SGD、AdaGrad、RMSPropなどがある。これらはモデル誤差に複数の極小値がある場合に大域的な極小値ではない場所に収束しないようにするなど幾つかの工夫に違いがある。"
   ]
  }
 ],
 "metadata": {
  "kernelspec": {
   "display_name": "Python 3",
   "language": "python",
   "name": "python3"
  },
  "language_info": {
   "codemirror_mode": {
    "name": "ipython",
    "version": 3
   },
   "file_extension": ".py",
   "mimetype": "text/x-python",
   "name": "python",
   "nbconvert_exporter": "python",
   "pygments_lexer": "ipython3",
   "version": "3.7.3"
  }
 },
 "nbformat": 4,
 "nbformat_minor": 2
}
