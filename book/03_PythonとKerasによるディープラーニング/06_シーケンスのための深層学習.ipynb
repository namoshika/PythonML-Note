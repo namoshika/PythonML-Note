{
 "cells": [
  {
   "cell_type": "code",
   "execution_count": 2,
   "metadata": {},
   "outputs": [],
   "source": [
    "import matplotlib.pyplot as plt\n",
    "import numpy as np\n",
    "import pandas as pd\n",
    "import tensorflow as tf\n",
    "from pathlib import Path\n",
    "\n",
    "%matplotlib inline"
   ]
  },
  {
   "cell_type": "markdown",
   "metadata": {},
   "source": [
    "# テキストデータの操作\n",
    "1. one-hot エンコーディング\n",
    "2. トークン埋め込み"
   ]
  },
  {
   "cell_type": "markdown",
   "metadata": {},
   "source": [
    "## 1. one-hot エンコーディング\n",
    "エンコーディングには辞書を用いる方法とハッシュ関数を用いる方法がある。ハッシュ関数を使用すると語彙サイズが大きい場合にメモリ効率が高い。しかし、複数の単語へ同一の番号が振られる事がある (**ハッシュ衝突**)"
   ]
  },
  {
   "cell_type": "code",
   "execution_count": 2,
   "metadata": {},
   "outputs": [],
   "source": [
    "from tensorflow.keras.preprocessing.text import Tokenizer"
   ]
  },
  {
   "cell_type": "code",
   "execution_count": 5,
   "metadata": {},
   "outputs": [
    {
     "data": {
      "text/plain": [
       "{'the': 1,\n",
       " 'cat': 2,\n",
       " 'sat': 3,\n",
       " 'on': 4,\n",
       " 'mat': 5,\n",
       " 'dog': 6,\n",
       " 'ate': 7,\n",
       " 'my': 8,\n",
       " 'homework': 9}"
      ]
     },
     "execution_count": 5,
     "metadata": {},
     "output_type": "execute_result"
    }
   ],
   "source": [
    "samples = [\"The cat sat on the mat.\", \"The dog ate my homework.\"]\n",
    "tokenizer = Tokenizer(num_words=1000)\n",
    "tokenizer.fit_on_texts(samples)\n",
    "tokenizer.word_index"
   ]
  },
  {
   "cell_type": "code",
   "execution_count": 6,
   "metadata": {},
   "outputs": [
    {
     "name": "stdout",
     "output_type": "stream",
     "text": [
      "[[1, 2, 3, 4, 1, 5], [1, 6, 7, 8, 9]]\n"
     ]
    }
   ],
   "source": [
    "# テキスト -> 整数インデックス\n",
    "print(tokenizer.texts_to_sequences(samples))"
   ]
  },
  {
   "cell_type": "code",
   "execution_count": 7,
   "metadata": {},
   "outputs": [
    {
     "name": "stdout",
     "output_type": "stream",
     "text": [
      "[[0. 1. 1. ... 0. 0. 0.]\n",
      " [0. 1. 0. ... 0. 0. 0.]]\n"
     ]
    }
   ],
   "source": [
    "# テキスト -> one-hot エンコーディング\n",
    "print(tokenizer.texts_to_matrix(samples, mode=\"binary\"))"
   ]
  },
  {
   "cell_type": "code",
   "execution_count": 8,
   "metadata": {},
   "outputs": [
    {
     "data": {
      "text/plain": [
       "[37, 95, 75, 51, 37, 34]"
      ]
     },
     "execution_count": 8,
     "metadata": {},
     "output_type": "execute_result"
    }
   ],
   "source": [
    "# テキスト -> 整数インデックス (ハッシュ関数)\n",
    "from tensorflow.keras.preprocessing.text import one_hot, hashing_trick\n",
    "one_hot(samples[0], 100)"
   ]
  },
  {
   "cell_type": "markdown",
   "metadata": {},
   "source": [
    "## 2. 単語埋め込み\n",
    "**単語ベクトル** とも呼ばれる。ベクトルはデータから学習され、 one-hot よりも低次元なベクトルで扱える。"
   ]
  },
  {
   "cell_type": "code",
   "execution_count": 3,
   "metadata": {},
   "outputs": [],
   "source": [
    "from tensorflow.keras.datasets import imdb\n",
    "from tensorflow.keras.preprocessing import sequence"
   ]
  },
  {
   "cell_type": "code",
   "execution_count": 7,
   "metadata": {},
   "outputs": [
    {
     "data": {
      "text/plain": [
       "(25000, 20)"
      ]
     },
     "execution_count": 7,
     "metadata": {},
     "output_type": "execute_result"
    }
   ],
   "source": [
    "max_features = 10000\n",
    "max_len = 20\n",
    "(x_train, y_train), (x_test, y_test) = imdb.load_data(num_words=max_features)\n",
    "\n",
    "x_train = sequence.pad_sequences(x_train, maxlen=max_len)\n",
    "x_test = sequence.pad_sequences(x_test, maxlen=max_len)\n",
    "\n",
    "x_train.shape"
   ]
  },
  {
   "cell_type": "code",
   "execution_count": 64,
   "metadata": {},
   "outputs": [],
   "source": [
    "import tensorflow.keras.models as models\n",
    "import tensorflow.keras.layers as layers\n",
    "import tensorflow.keras.optimizers as optimizers"
   ]
  },
  {
   "cell_type": "code",
   "execution_count": 61,
   "metadata": {},
   "outputs": [
    {
     "name": "stdout",
     "output_type": "stream",
     "text": [
      "Model: \"sequential_1\"\n",
      "_________________________________________________________________\n",
      "Layer (type)                 Output Shape              Param #   \n",
      "=================================================================\n",
      "embedding_1 (Embedding)      (None, 20, 8)             80000     \n",
      "_________________________________________________________________\n",
      "flatten_1 (Flatten)          (None, 160)               0         \n",
      "_________________________________________________________________\n",
      "dense_1 (Dense)              (None, 1)                 161       \n",
      "=================================================================\n",
      "Total params: 80,161\n",
      "Trainable params: 80,161\n",
      "Non-trainable params: 0\n",
      "_________________________________________________________________\n"
     ]
    }
   ],
   "source": [
    "model = models.Sequential()\n",
    "model.add(layers.Embedding(max_features, 8, input_length=max_len))\n",
    "model.add(layers.Flatten())\n",
    "model.add(layers.Dense(1, activation=\"sigmoid\"))\n",
    "\n",
    "model.compile(loss=\"binary_crossentropy\", metrics=[\"acc\"])\n",
    "model.summary()"
   ]
  },
  {
   "cell_type": "code",
   "execution_count": 62,
   "metadata": {},
   "outputs": [
    {
     "name": "stdout",
     "output_type": "stream",
     "text": [
      "Train on 20000 samples, validate on 5000 samples\n",
      "Epoch 1/10\n",
      "20000/20000 [==============================] - 3s 149us/sample - loss: 0.6687 - acc: 0.6315 - val_loss: 0.6198 - val_acc: 0.7034\n",
      "Epoch 2/10\n",
      "20000/20000 [==============================] - 2s 104us/sample - loss: 0.5445 - acc: 0.7530 - val_loss: 0.5277 - val_acc: 0.7288\n",
      "Epoch 3/10\n",
      "20000/20000 [==============================] - 2s 103us/sample - loss: 0.4627 - acc: 0.7875 - val_loss: 0.5013 - val_acc: 0.7398\n",
      "Epoch 4/10\n",
      "20000/20000 [==============================] - 2s 102us/sample - loss: 0.4221 - acc: 0.8088 - val_loss: 0.4943 - val_acc: 0.7438\n",
      "Epoch 5/10\n",
      "20000/20000 [==============================] - 2s 102us/sample - loss: 0.3949 - acc: 0.8243 - val_loss: 0.4939 - val_acc: 0.7534\n",
      "Epoch 6/10\n",
      "20000/20000 [==============================] - 2s 103us/sample - loss: 0.3722 - acc: 0.8367 - val_loss: 0.4987 - val_acc: 0.7504\n",
      "Epoch 7/10\n",
      "20000/20000 [==============================] - 2s 102us/sample - loss: 0.3524 - acc: 0.8472 - val_loss: 0.5024 - val_acc: 0.7550\n",
      "Epoch 8/10\n",
      "20000/20000 [==============================] - 2s 104us/sample - loss: 0.3333 - acc: 0.8576 - val_loss: 0.5085 - val_acc: 0.7542\n",
      "Epoch 9/10\n",
      "20000/20000 [==============================] - 2s 103us/sample - loss: 0.3149 - acc: 0.8688 - val_loss: 0.5156 - val_acc: 0.7502\n",
      "Epoch 10/10\n",
      "20000/20000 [==============================] - 2s 103us/sample - loss: 0.2971 - acc: 0.8765 - val_loss: 0.5255 - val_acc: 0.7480\n"
     ]
    }
   ],
   "source": [
    "result = model.fit(x_train, y_train, epochs=10, batch_size=32, validation_split=0.2)"
   ]
  },
  {
   "cell_type": "markdown",
   "metadata": {},
   "source": [
    "## pre-trained vector\n",
    "* https://nlp.stanford.edu/projects/glove/\n",
    "* http://www.cl.ecei.tohoku.ac.jp/~m-suzuki/jawiki_vector/"
   ]
  },
  {
   "cell_type": "markdown",
   "metadata": {},
   "source": [
    "# RNNを理解する\n",
    "RNN は入力が (batch_size, timestep, feature) の形になっており、ネットワークはループ構造で timestamp を進む。各ループは入力と一つ前のループの出力を足したものを入力とする。出力は (batch_size, timestamp, feature) または (timestamp, feature) となり、前者は一連のループの出力となり後者は最後の出力のみを返す。この構造はモデルが timestamp を進む流れを記憶するため、時系列データを上手く扱える。"
   ]
  },
  {
   "cell_type": "code",
   "execution_count": 9,
   "metadata": {},
   "outputs": [
    {
     "data": {
      "text/plain": [
       "(25000, 500)"
      ]
     },
     "execution_count": 9,
     "metadata": {},
     "output_type": "execute_result"
    }
   ],
   "source": [
    "max_features = 10000\n",
    "max_len = 500\n",
    "batch_size = 32\n",
    "(x_train, y_train), (x_test, y_test) = imdb.load_data(num_words=max_features)\n",
    "\n",
    "x_train = sequence.pad_sequences(x_train, maxlen=max_len)\n",
    "x_test = sequence.pad_sequences(x_test, maxlen=max_len)\n",
    "\n",
    "x_train.shape"
   ]
  },
  {
   "cell_type": "code",
   "execution_count": 437,
   "metadata": {},
   "outputs": [
    {
     "data": {
      "text/plain": [
       "(25000, 500)"
      ]
     },
     "execution_count": 437,
     "metadata": {},
     "output_type": "execute_result"
    }
   ],
   "source": [
    "x_train.shape"
   ]
  },
  {
   "cell_type": "code",
   "execution_count": 438,
   "metadata": {},
   "outputs": [
    {
     "data": {
      "text/plain": [
       "(25000,)"
      ]
     },
     "execution_count": 438,
     "metadata": {},
     "output_type": "execute_result"
    }
   ],
   "source": [
    "y_train.shape"
   ]
  },
  {
   "cell_type": "code",
   "execution_count": 10,
   "metadata": {},
   "outputs": [
    {
     "name": "stdout",
     "output_type": "stream",
     "text": [
      "Model: \"sequential_1\"\n",
      "_________________________________________________________________\n",
      "Layer (type)                 Output Shape              Param #   \n",
      "=================================================================\n",
      "embedding (Embedding)        (None, None, 32)          320000    \n",
      "_________________________________________________________________\n",
      "simple_rnn (SimpleRNN)       (None, None, 32)          2080      \n",
      "_________________________________________________________________\n",
      "dense (Dense)                (None, None, 1)           33        \n",
      "=================================================================\n",
      "Total params: 322,113\n",
      "Trainable params: 322,113\n",
      "Non-trainable params: 0\n",
      "_________________________________________________________________\n"
     ]
    }
   ],
   "source": [
    "model = models.Sequential()\n",
    "model.add(layers.Embedding(max_features, batch_size))\n",
    "model.add(layers.SimpleRNN(32, return_sequences=True))\n",
    "model.add(layers.Dense(1, activation=\"sigmoid\"))\n",
    "model.summary()"
   ]
  },
  {
   "cell_type": "code",
   "execution_count": null,
   "metadata": {},
   "outputs": [],
   "source": [
    "model.compile(loss=\"binary_crossentropy\", metrics=[\"acc\"])\n",
    "result = model.fit(x_train, y_train, epochs=10, batch_size=128, validation_split=0.2)"
   ]
  },
  {
   "cell_type": "code",
   "execution_count": 84,
   "metadata": {},
   "outputs": [
    {
     "data": {
      "text/plain": [
       "(0, 1)"
      ]
     },
     "execution_count": 84,
     "metadata": {},
     "output_type": "execute_result"
    },
    {
     "data": {
      "image/png": "[encoded data removed]",
      "text/plain": [
       "<Figure size 720x216 with 2 Axes>"
      ]
     },
     "metadata": {
      "needs_background": "light"
     },
     "output_type": "display_data"
    }
   ],
   "source": [
    "plt.figure(figsize=(10, 3))\n",
    "plt.subplot(1, 2, 1)\n",
    "plt.plot(result.history[\"loss\"])\n",
    "plt.ylim(0, 1)\n",
    "\n",
    "plt.subplot(1, 2, 2)\n",
    "plt.plot(result.history[\"acc\"])\n",
    "plt.ylim(0, 1)"
   ]
  },
  {
   "cell_type": "markdown",
   "metadata": {},
   "source": [
    "# LSTM 層と GRU 層\n",
    "RNN には **勾配消失問題** が存在し、これへの対策として幾つかの RNN 層が提案されている。これらは消失する情報を他の経路や変数による保存を用いて補っている。"
   ]
  },
  {
   "cell_type": "code",
   "execution_count": 87,
   "metadata": {},
   "outputs": [
    {
     "name": "stdout",
     "output_type": "stream",
     "text": [
      "Model: \"sequential_8\"\n",
      "_________________________________________________________________\n",
      "Layer (type)                 Output Shape              Param #   \n",
      "=================================================================\n",
      "embedding_5 (Embedding)      (None, None, 32)          320000    \n",
      "_________________________________________________________________\n",
      "lstm (LSTM)                  (None, 32)                8320      \n",
      "_________________________________________________________________\n",
      "dense_4 (Dense)              (None, 1)                 33        \n",
      "=================================================================\n",
      "Total params: 328,353\n",
      "Trainable params: 328,353\n",
      "Non-trainable params: 0\n",
      "_________________________________________________________________\n",
      "Train on 20000 samples, validate on 5000 samples\n",
      "Epoch 1/10\n",
      "20000/20000 [==============================] - 8s 417us/sample - loss: 0.5032 - acc: 0.7613 - val_loss: 0.3731 - val_acc: 0.8430\n",
      "Epoch 2/10\n",
      "20000/20000 [==============================] - 5s 259us/sample - loss: 0.2904 - acc: 0.8885 - val_loss: 0.3889 - val_acc: 0.8226\n",
      "Epoch 3/10\n",
      "20000/20000 [==============================] - 5s 257us/sample - loss: 0.2347 - acc: 0.9115 - val_loss: 0.4286 - val_acc: 0.8300\n",
      "Epoch 4/10\n",
      "20000/20000 [==============================] - 5s 256us/sample - loss: 0.1986 - acc: 0.9273 - val_loss: 0.4118 - val_acc: 0.8286\n",
      "Epoch 5/10\n",
      "20000/20000 [==============================] - 5s 257us/sample - loss: 0.1715 - acc: 0.9391 - val_loss: 0.3116 - val_acc: 0.8874\n",
      "Epoch 6/10\n",
      "20000/20000 [==============================] - 5s 260us/sample - loss: 0.1624 - acc: 0.9433 - val_loss: 0.3226 - val_acc: 0.8882\n",
      "Epoch 7/10\n",
      "20000/20000 [==============================] - 5s 262us/sample - loss: 0.1431 - acc: 0.9505 - val_loss: 0.3262 - val_acc: 0.8850\n",
      "Epoch 8/10\n",
      "20000/20000 [==============================] - 5s 263us/sample - loss: 0.1352 - acc: 0.9527 - val_loss: 0.3186 - val_acc: 0.8912\n",
      "Epoch 9/10\n",
      "20000/20000 [==============================] - 5s 260us/sample - loss: 0.1241 - acc: 0.9570 - val_loss: 0.3258 - val_acc: 0.8774\n",
      "Epoch 10/10\n",
      "20000/20000 [==============================] - 5s 255us/sample - loss: 0.1112 - acc: 0.9620 - val_loss: 0.3385 - val_acc: 0.8718\n"
     ]
    }
   ],
   "source": [
    "model = models.Sequential()\n",
    "model.add(layers.Embedding(max_features, batch_size))\n",
    "model.add(layers.LSTM(32))\n",
    "model.add(layers.Dense(1, activation=\"sigmoid\"))\n",
    "model.summary()\n",
    "\n",
    "model.compile(loss=\"binary_crossentropy\", metrics=[\"acc\"])\n",
    "result = model.fit(x_train, y_train, epochs=10, batch_size=128, validation_split=0.2)"
   ]
  },
  {
   "cell_type": "code",
   "execution_count": 91,
   "metadata": {},
   "outputs": [
    {
     "data": {
      "text/plain": [
       "(0, 1)"
      ]
     },
     "execution_count": 91,
     "metadata": {},
     "output_type": "execute_result"
    },
    {
     "data": {
      "image/png": "[encoded data removed]",
      "text/plain": [
       "<Figure size 720x216 with 2 Axes>"
      ]
     },
     "metadata": {
      "needs_background": "light"
     },
     "output_type": "display_data"
    }
   ],
   "source": [
    "plt.figure(figsize=(10, 3))\n",
    "plt.subplot(1, 2, 1)\n",
    "plt.plot(result.history[\"loss\"])\n",
    "plt.plot(result.history[\"val_loss\"])\n",
    "plt.ylim(0, 1)\n",
    "\n",
    "plt.subplot(1, 2, 2)\n",
    "plt.plot(result.history[\"acc\"])\n",
    "plt.plot(result.history[\"val_acc\"])\n",
    "plt.ylim(0, 1)"
   ]
  },
  {
   "cell_type": "markdown",
   "metadata": {},
   "source": [
    "# RNN の高度な使い方\n",
    "* リカレントドロップアウト\n",
    "* リカレント層のスタッキング\n",
    "* 双方向のリカレント層"
   ]
  },
  {
   "cell_type": "markdown",
   "metadata": {},
   "source": [
    "## データの準備\n",
    "気象予測問題を解く"
   ]
  },
  {
   "cell_type": "code",
   "execution_count": 5,
   "metadata": {},
   "outputs": [
    {
     "name": "stdout",
     "output_type": "stream",
     "text": [
      "Downloading data from https://s3.amazonaws.com/keras-datasets/jena_climate_2009_2016.csv.zip\n",
      "13574144/13568290 [==============================] - 3s 0us/step\n"
     ]
    }
   ],
   "source": [
    "data_dir = tf.keras.utils.get_file(\n",
    "    \"jena_climate.csv.zip\",\n",
    "    \"https://s3.amazonaws.com/keras-datasets/jena_climate_2009_2016.csv.zip\", extract=True)\n",
    "\n",
    "csv_path = Path(data_dir) / \"..\" / \"jena_climate_2009_2016.csv\"\n",
    "csv_path = csv_path.resolve()\n",
    "csv_data_raw = pd.read_csv(csv_path)\n",
    "csv_data_raw = csv_data_raw.set_index(\"Date Time\")"
   ]
  },
  {
   "cell_type": "code",
   "execution_count": 6,
   "metadata": {},
   "outputs": [
    {
     "data": {
      "text/html": [
       "<div>\n",
       "<style scoped>\n",
       "    .dataframe tbody tr th:only-of-type {\n",
       "        vertical-align: middle;\n",
       "    }\n",
       "\n",
       "    .dataframe tbody tr th {\n",
       "        vertical-align: top;\n",
       "    }\n",
       "\n",
       "    .dataframe thead th {\n",
       "        text-align: right;\n",
       "    }\n",
       "</style>\n",
       "<table border=\"1\" class=\"dataframe\">\n",
       "  <thead>\n",
       "    <tr style=\"text-align: right;\">\n",
       "      <th></th>\n",
       "      <th>p (mbar)</th>\n",
       "      <th>T (degC)</th>\n",
       "      <th>Tpot (K)</th>\n",
       "      <th>Tdew (degC)</th>\n",
       "      <th>rh (%)</th>\n",
       "      <th>VPmax (mbar)</th>\n",
       "      <th>VPact (mbar)</th>\n",
       "      <th>VPdef (mbar)</th>\n",
       "      <th>sh (g/kg)</th>\n",
       "      <th>H2OC (mmol/mol)</th>\n",
       "      <th>rho (g/m**3)</th>\n",
       "      <th>wv (m/s)</th>\n",
       "      <th>max. wv (m/s)</th>\n",
       "      <th>wd (deg)</th>\n",
       "    </tr>\n",
       "    <tr>\n",
       "      <th>Date Time</th>\n",
       "      <th></th>\n",
       "      <th></th>\n",
       "      <th></th>\n",
       "      <th></th>\n",
       "      <th></th>\n",
       "      <th></th>\n",
       "      <th></th>\n",
       "      <th></th>\n",
       "      <th></th>\n",
       "      <th></th>\n",
       "      <th></th>\n",
       "      <th></th>\n",
       "      <th></th>\n",
       "      <th></th>\n",
       "    </tr>\n",
       "  </thead>\n",
       "  <tbody>\n",
       "    <tr>\n",
       "      <th>01.01.2009 00:10:00</th>\n",
       "      <td>996.52</td>\n",
       "      <td>-8.02</td>\n",
       "      <td>265.40</td>\n",
       "      <td>-8.90</td>\n",
       "      <td>93.3</td>\n",
       "      <td>3.33</td>\n",
       "      <td>3.11</td>\n",
       "      <td>0.22</td>\n",
       "      <td>1.94</td>\n",
       "      <td>3.12</td>\n",
       "      <td>1307.75</td>\n",
       "      <td>1.03</td>\n",
       "      <td>1.75</td>\n",
       "      <td>152.3</td>\n",
       "    </tr>\n",
       "    <tr>\n",
       "      <th>01.01.2009 00:20:00</th>\n",
       "      <td>996.57</td>\n",
       "      <td>-8.41</td>\n",
       "      <td>265.01</td>\n",
       "      <td>-9.28</td>\n",
       "      <td>93.4</td>\n",
       "      <td>3.23</td>\n",
       "      <td>3.02</td>\n",
       "      <td>0.21</td>\n",
       "      <td>1.89</td>\n",
       "      <td>3.03</td>\n",
       "      <td>1309.80</td>\n",
       "      <td>0.72</td>\n",
       "      <td>1.50</td>\n",
       "      <td>136.1</td>\n",
       "    </tr>\n",
       "    <tr>\n",
       "      <th>01.01.2009 00:30:00</th>\n",
       "      <td>996.53</td>\n",
       "      <td>-8.51</td>\n",
       "      <td>264.91</td>\n",
       "      <td>-9.31</td>\n",
       "      <td>93.9</td>\n",
       "      <td>3.21</td>\n",
       "      <td>3.01</td>\n",
       "      <td>0.20</td>\n",
       "      <td>1.88</td>\n",
       "      <td>3.02</td>\n",
       "      <td>1310.24</td>\n",
       "      <td>0.19</td>\n",
       "      <td>0.63</td>\n",
       "      <td>171.6</td>\n",
       "    </tr>\n",
       "    <tr>\n",
       "      <th>01.01.2009 00:40:00</th>\n",
       "      <td>996.51</td>\n",
       "      <td>-8.31</td>\n",
       "      <td>265.12</td>\n",
       "      <td>-9.07</td>\n",
       "      <td>94.2</td>\n",
       "      <td>3.26</td>\n",
       "      <td>3.07</td>\n",
       "      <td>0.19</td>\n",
       "      <td>1.92</td>\n",
       "      <td>3.08</td>\n",
       "      <td>1309.19</td>\n",
       "      <td>0.34</td>\n",
       "      <td>0.50</td>\n",
       "      <td>198.0</td>\n",
       "    </tr>\n",
       "    <tr>\n",
       "      <th>01.01.2009 00:50:00</th>\n",
       "      <td>996.51</td>\n",
       "      <td>-8.27</td>\n",
       "      <td>265.15</td>\n",
       "      <td>-9.04</td>\n",
       "      <td>94.1</td>\n",
       "      <td>3.27</td>\n",
       "      <td>3.08</td>\n",
       "      <td>0.19</td>\n",
       "      <td>1.92</td>\n",
       "      <td>3.09</td>\n",
       "      <td>1309.00</td>\n",
       "      <td>0.32</td>\n",
       "      <td>0.63</td>\n",
       "      <td>214.3</td>\n",
       "    </tr>\n",
       "  </tbody>\n",
       "</table>\n",
       "</div>"
      ],
      "text/plain": [
       "                     p (mbar)  T (degC)  Tpot (K)  Tdew (degC)  rh (%)  \\\n",
       "Date Time                                                                \n",
       "01.01.2009 00:10:00    996.52     -8.02    265.40        -8.90    93.3   \n",
       "01.01.2009 00:20:00    996.57     -8.41    265.01        -9.28    93.4   \n",
       "01.01.2009 00:30:00    996.53     -8.51    264.91        -9.31    93.9   \n",
       "01.01.2009 00:40:00    996.51     -8.31    265.12        -9.07    94.2   \n",
       "01.01.2009 00:50:00    996.51     -8.27    265.15        -9.04    94.1   \n",
       "\n",
       "                     VPmax (mbar)  VPact (mbar)  VPdef (mbar)  sh (g/kg)  \\\n",
       "Date Time                                                                  \n",
       "01.01.2009 00:10:00          3.33          3.11          0.22       1.94   \n",
       "01.01.2009 00:20:00          3.23          3.02          0.21       1.89   \n",
       "01.01.2009 00:30:00          3.21          3.01          0.20       1.88   \n",
       "01.01.2009 00:40:00          3.26          3.07          0.19       1.92   \n",
       "01.01.2009 00:50:00          3.27          3.08          0.19       1.92   \n",
       "\n",
       "                     H2OC (mmol/mol)  rho (g/m**3)  wv (m/s)  max. wv (m/s)  \\\n",
       "Date Time                                                                     \n",
       "01.01.2009 00:10:00             3.12       1307.75      1.03           1.75   \n",
       "01.01.2009 00:20:00             3.03       1309.80      0.72           1.50   \n",
       "01.01.2009 00:30:00             3.02       1310.24      0.19           0.63   \n",
       "01.01.2009 00:40:00             3.08       1309.19      0.34           0.50   \n",
       "01.01.2009 00:50:00             3.09       1309.00      0.32           0.63   \n",
       "\n",
       "                     wd (deg)  \n",
       "Date Time                      \n",
       "01.01.2009 00:10:00     152.3  \n",
       "01.01.2009 00:20:00     136.1  \n",
       "01.01.2009 00:30:00     171.6  \n",
       "01.01.2009 00:40:00     198.0  \n",
       "01.01.2009 00:50:00     214.3  "
      ]
     },
     "execution_count": 6,
     "metadata": {},
     "output_type": "execute_result"
    }
   ],
   "source": [
    "csv_data_raw.head()"
   ]
  },
  {
   "cell_type": "code",
   "execution_count": 7,
   "metadata": {},
   "outputs": [
    {
     "data": {
      "text/plain": [
       "<matplotlib.axes._subplots.AxesSubplot at 0x7f8d8dbc7390>"
      ]
     },
     "execution_count": 7,
     "metadata": {},
     "output_type": "execute_result"
    },
    {
     "data": {
      "image/png": "[encoded data removed]",
      "text/plain": [
       "<Figure size 864x288 with 2 Axes>"
      ]
     },
     "metadata": {
      "needs_background": "light"
     },
     "output_type": "display_data"
    }
   ],
   "source": [
    "plt.figure(figsize=(12, 4))\n",
    "ax = plt.subplot(1, 2, 1)\n",
    "csv_data_raw.loc[:, [\"T (degC)\"]].plot(ax=ax)\n",
    "\n",
    "ax = plt.subplot(1, 2, 2)\n",
    "csv_data_raw.iloc[:1440].loc[:, [\"T (degC)\"]].plot(ax=ax)"
   ]
  },
  {
   "cell_type": "code",
   "execution_count": 8,
   "metadata": {},
   "outputs": [
    {
     "data": {
      "text/html": [
       "<div>\n",
       "<style scoped>\n",
       "    .dataframe tbody tr th:only-of-type {\n",
       "        vertical-align: middle;\n",
       "    }\n",
       "\n",
       "    .dataframe tbody tr th {\n",
       "        vertical-align: top;\n",
       "    }\n",
       "\n",
       "    .dataframe thead th {\n",
       "        text-align: right;\n",
       "    }\n",
       "</style>\n",
       "<table border=\"1\" class=\"dataframe\">\n",
       "  <thead>\n",
       "    <tr style=\"text-align: right;\">\n",
       "      <th></th>\n",
       "      <th>p (mbar)</th>\n",
       "      <th>T (degC)</th>\n",
       "      <th>Tpot (K)</th>\n",
       "      <th>Tdew (degC)</th>\n",
       "      <th>rh (%)</th>\n",
       "      <th>VPmax (mbar)</th>\n",
       "      <th>VPact (mbar)</th>\n",
       "      <th>VPdef (mbar)</th>\n",
       "      <th>sh (g/kg)</th>\n",
       "      <th>H2OC (mmol/mol)</th>\n",
       "      <th>rho (g/m**3)</th>\n",
       "      <th>wv (m/s)</th>\n",
       "      <th>max. wv (m/s)</th>\n",
       "      <th>wd (deg)</th>\n",
       "    </tr>\n",
       "  </thead>\n",
       "  <tbody>\n",
       "    <tr>\n",
       "      <th>count</th>\n",
       "      <td>420551.000000</td>\n",
       "      <td>420551.000000</td>\n",
       "      <td>420551.000000</td>\n",
       "      <td>420551.000000</td>\n",
       "      <td>420551.000000</td>\n",
       "      <td>420551.000000</td>\n",
       "      <td>420551.000000</td>\n",
       "      <td>420551.000000</td>\n",
       "      <td>420551.000000</td>\n",
       "      <td>420551.000000</td>\n",
       "      <td>420551.000000</td>\n",
       "      <td>420551.000000</td>\n",
       "      <td>420551.000000</td>\n",
       "      <td>420551.000000</td>\n",
       "    </tr>\n",
       "    <tr>\n",
       "      <th>mean</th>\n",
       "      <td>0.038491</td>\n",
       "      <td>0.042112</td>\n",
       "      <td>0.038693</td>\n",
       "      <td>0.070795</td>\n",
       "      <td>0.039110</td>\n",
       "      <td>0.025139</td>\n",
       "      <td>0.056407</td>\n",
       "      <td>-0.008988</td>\n",
       "      <td>0.055220</td>\n",
       "      <td>0.055270</td>\n",
       "      <td>-0.034163</td>\n",
       "      <td>-0.292047</td>\n",
       "      <td>-0.220088</td>\n",
       "      <td>-0.017010</td>\n",
       "    </tr>\n",
       "    <tr>\n",
       "      <th>std</th>\n",
       "      <td>0.985617</td>\n",
       "      <td>0.951522</td>\n",
       "      <td>0.949874</td>\n",
       "      <td>0.939269</td>\n",
       "      <td>0.984984</td>\n",
       "      <td>1.006484</td>\n",
       "      <td>0.996682</td>\n",
       "      <td>1.011672</td>\n",
       "      <td>0.996430</td>\n",
       "      <td>0.996077</td>\n",
       "      <td>0.940838</td>\n",
       "      <td>42.590006</td>\n",
       "      <td>29.612374</td>\n",
       "      <td>1.000788</td>\n",
       "    </tr>\n",
       "    <tr>\n",
       "      <th>min</th>\n",
       "      <td>-8.877632</td>\n",
       "      <td>-3.624657</td>\n",
       "      <td>-3.635134</td>\n",
       "      <td>-4.110953</td>\n",
       "      <td>-3.730658</td>\n",
       "      <td>-1.616945</td>\n",
       "      <td>-2.026386</td>\n",
       "      <td>-0.844136</td>\n",
       "      <td>-2.016468</td>\n",
       "      <td>-2.023768</td>\n",
       "      <td>-3.720127</td>\n",
       "      <td>-6508.334156</td>\n",
       "      <td>-4291.697971</td>\n",
       "      <td>-2.034523</td>\n",
       "    </tr>\n",
       "    <tr>\n",
       "      <th>25%</th>\n",
       "      <td>-0.552607</td>\n",
       "      <td>-0.645844</td>\n",
       "      <td>-0.638461</td>\n",
       "      <td>-0.587305</td>\n",
       "      <td>-0.606435</td>\n",
       "      <td>-0.728682</td>\n",
       "      <td>-0.735323</td>\n",
       "      <td>-0.664397</td>\n",
       "      <td>-0.733482</td>\n",
       "      <td>-0.732633</td>\n",
       "      <td>-0.706638</td>\n",
       "      <td>-0.755533</td>\n",
       "      <td>-0.776387</td>\n",
       "      <td>-0.592483</td>\n",
       "    </tr>\n",
       "    <tr>\n",
       "      <th>50%</th>\n",
       "      <td>0.081793</td>\n",
       "      <td>0.038707</td>\n",
       "      <td>0.036153</td>\n",
       "      <td>0.107657</td>\n",
       "      <td>0.235897</td>\n",
       "      <td>-0.203267</td>\n",
       "      <td>-0.104084</td>\n",
       "      <td>-0.391690</td>\n",
       "      <td>-0.106995</td>\n",
       "      <td>-0.104704</td>\n",
       "      <td>-0.087653</td>\n",
       "      <td>-0.254449</td>\n",
       "      <td>-0.261516</td>\n",
       "      <td>0.252651</td>\n",
       "    </tr>\n",
       "    <tr>\n",
       "      <th>75%</th>\n",
       "      <td>0.687892</td>\n",
       "      <td>0.722128</td>\n",
       "      <td>0.713001</td>\n",
       "      <td>0.784476</td>\n",
       "      <td>0.839699</td>\n",
       "      <td>0.548440</td>\n",
       "      <td>0.727246</td>\n",
       "      <td>0.250825</td>\n",
       "      <td>0.722070</td>\n",
       "      <td>0.725479</td>\n",
       "      <td>0.594406</td>\n",
       "      <td>0.461385</td>\n",
       "      <td>0.502210</td>\n",
       "      <td>0.668291</td>\n",
       "    </tr>\n",
       "    <tr>\n",
       "      <th>max</th>\n",
       "      <td>3.120545</td>\n",
       "      <td>3.185833</td>\n",
       "      <td>3.148984</td>\n",
       "      <td>2.604214</td>\n",
       "      <td>1.473391</td>\n",
       "      <td>6.552993</td>\n",
       "      <td>4.531355</td>\n",
       "      <td>8.661363</td>\n",
       "      <td>4.597288</td>\n",
       "      <td>4.565957</td>\n",
       "      <td>4.142858</td>\n",
       "      <td>17.140326</td>\n",
       "      <td>8.551367</td>\n",
       "      <td>2.121876</td>\n",
       "    </tr>\n",
       "  </tbody>\n",
       "</table>\n",
       "</div>"
      ],
      "text/plain": [
       "            p (mbar)       T (degC)       Tpot (K)    Tdew (degC)  \\\n",
       "count  420551.000000  420551.000000  420551.000000  420551.000000   \n",
       "mean        0.038491       0.042112       0.038693       0.070795   \n",
       "std         0.985617       0.951522       0.949874       0.939269   \n",
       "min        -8.877632      -3.624657      -3.635134      -4.110953   \n",
       "25%        -0.552607      -0.645844      -0.638461      -0.587305   \n",
       "50%         0.081793       0.038707       0.036153       0.107657   \n",
       "75%         0.687892       0.722128       0.713001       0.784476   \n",
       "max         3.120545       3.185833       3.148984       2.604214   \n",
       "\n",
       "              rh (%)   VPmax (mbar)   VPact (mbar)   VPdef (mbar)  \\\n",
       "count  420551.000000  420551.000000  420551.000000  420551.000000   \n",
       "mean        0.039110       0.025139       0.056407      -0.008988   \n",
       "std         0.984984       1.006484       0.996682       1.011672   \n",
       "min        -3.730658      -1.616945      -2.026386      -0.844136   \n",
       "25%        -0.606435      -0.728682      -0.735323      -0.664397   \n",
       "50%         0.235897      -0.203267      -0.104084      -0.391690   \n",
       "75%         0.839699       0.548440       0.727246       0.250825   \n",
       "max         1.473391       6.552993       4.531355       8.661363   \n",
       "\n",
       "           sh (g/kg)  H2OC (mmol/mol)   rho (g/m**3)       wv (m/s)  \\\n",
       "count  420551.000000    420551.000000  420551.000000  420551.000000   \n",
       "mean        0.055220         0.055270      -0.034163      -0.292047   \n",
       "std         0.996430         0.996077       0.940838      42.590006   \n",
       "min        -2.016468        -2.023768      -3.720127   -6508.334156   \n",
       "25%        -0.733482        -0.732633      -0.706638      -0.755533   \n",
       "50%        -0.106995        -0.104704      -0.087653      -0.254449   \n",
       "75%         0.722070         0.725479       0.594406       0.461385   \n",
       "max         4.597288         4.565957       4.142858      17.140326   \n",
       "\n",
       "       max. wv (m/s)       wd (deg)  \n",
       "count  420551.000000  420551.000000  \n",
       "mean       -0.220088      -0.017010  \n",
       "std        29.612374       1.000788  \n",
       "min     -4291.697971      -2.034523  \n",
       "25%        -0.776387      -0.592483  \n",
       "50%        -0.261516       0.252651  \n",
       "75%         0.502210       0.668291  \n",
       "max         8.551367       2.121876  "
      ]
     },
     "execution_count": 8,
     "metadata": {},
     "output_type": "execute_result"
    }
   ],
   "source": [
    "csv_avg = csv_data_raw[:200000].mean(axis=0)\n",
    "csv_std = csv_data_raw[:200000].std(axis=0)\n",
    "\n",
    "csv_data = csv_data_raw\n",
    "csv_data = csv_data - csv_avg\n",
    "csv_data = csv_data / csv_std\n",
    "csv_data.describe()"
   ]
  },
  {
   "cell_type": "markdown",
   "metadata": {},
   "source": [
    "## ベースラインを求める"
   ]
  },
  {
   "cell_type": "code",
   "execution_count": 10,
   "metadata": {},
   "outputs": [
    {
     "name": "stdout",
     "output_type": "stream",
     "text": [
      "MAE: 0.08063179\n"
     ]
    }
   ],
   "source": [
    "delay = 6\n",
    "csv_x = csv_data.values.astype(np.float32)\n",
    "csv_y = csv_data.loc[:, \"T (degC)\"].values.astype(np.float32)\n",
    "\n",
    "mae = np.mean(np.abs(csv_x[:-delay, 1] - csv_x[delay:, 1]))\n",
    "print(\"MAE:\", mae)"
   ]
  },
  {
   "cell_type": "markdown",
   "metadata": {},
   "source": [
    "## 基本的アプローチ"
   ]
  },
  {
   "cell_type": "code",
   "execution_count": 33,
   "metadata": {},
   "outputs": [],
   "source": [
    "def generate(\n",
    "    x_values, y_values, lookback, delay, min_index = 0, max_index = None,\n",
    "    shuffle=False, batch_size=128, step=6):\n",
    "    \n",
    "    x_values = x_values[min_index:max_index]\n",
    "    y_values = y_values[min_index:max_index]\n",
    "    \n",
    "    ds_x = tf.data.Dataset.from_tensor_slices(x_values)\n",
    "    ds_y = tf.data.Dataset.from_tensor_slices(y_values)\n",
    "    ds_x = ds_x.window(lookback, shift=1, stride=step, drop_remainder=True)\n",
    "    ds_x = ds_x.flat_map(lambda item: item.batch(lookback))\n",
    "    ds_y = ds_y.skip(lookback - 1 + delay)\n",
    "    \n",
    "    ds_xy = tf.data.Dataset.zip((ds_x, ds_y))\n",
    "    ds_xy = ds_xy.cache()\n",
    "    ds_xy = ds_xy.shuffle(1000) if shuffle else ds_xy\n",
    "    \n",
    "    ds_x = ds_xy.map(lambda x, y: x, num_parallel_calls=tf.data.experimental.AUTOTUNE)\n",
    "    ds_x = ds_x.batch(batch_size)\n",
    "    ds_y = ds_xy.map(lambda x, y: y, num_parallel_calls=tf.data.experimental.AUTOTUNE)\n",
    "    ds_y = ds_y.batch(batch_size)\n",
    "    ds_xy = tf.data.Dataset.zip((ds_x, ds_y))\n",
    "    ds_xy = ds_xy.prefetch(buffer_size=tf.data.experimental.AUTOTUNE)\n",
    "    ds_steps = -(-(len(x_values) - (1 + (lookback - 1) * step) - delay + 1) // batch_size)\n",
    "    \n",
    "    return ds_xy, ds_steps\n"
   ]
  },
  {
   "cell_type": "code",
   "execution_count": 34,
   "metadata": {},
   "outputs": [],
   "source": [
    "# 直近 10日間 を入力\n",
    "lookback = 240\n",
    "# 時間分解能 1時間毎\n",
    "step = 6\n",
    "# 24時間後の気温を予測\n",
    "delay = 24\n",
    "batch_size = 128\n",
    "\n",
    "# モデルへのデータ供給用データセットを作成\n",
    "train_gen, train_stp = generate(csv_x, csv_y, lookback, delay, 0, 200000, batch_size=batch_size, step=step)\n",
    "valid_gen, valid_stp = generate(csv_x, csv_y, lookback, delay, 200001, 300000, batch_size=batch_size, step=step)\n",
    "test_gen , _         = generate(csv_x, csv_y, lookback, delay, 300001, None, batch_size=batch_size, step=step)"
   ]
  },
  {
   "cell_type": "code",
   "execution_count": 13,
   "metadata": {},
   "outputs": [],
   "source": [
    "model = models.Sequential()\n",
    "model.add(layers.Flatten(input_shape=(lookback, csv_x.shape[1])))\n",
    "model.add(layers.Dense(32, activation=\"relu\"))\n",
    "model.add(layers.Dense(1))\n",
    "model.compile(loss=\"mae\")"
   ]
  },
  {
   "cell_type": "code",
   "execution_count": null,
   "metadata": {},
   "outputs": [],
   "source": [
    "%%time\n",
    "res = model.fit(\n",
    "    train_gen.repeat(), steps_per_epoch=train_stp, epochs=20,\n",
    "    validation_data=valid_gen, validation_steps=valid_stp)"
   ]
  },
  {
   "cell_type": "markdown",
   "metadata": {},
   "source": [
    "## 最初のRNNベースライン"
   ]
  },
  {
   "cell_type": "code",
   "execution_count": 35,
   "metadata": {},
   "outputs": [],
   "source": [
    "model = models.Sequential()\n",
    "model.add(layers.GRU(32, input_shape=(lookback, csv_x.shape[1])))\n",
    "model.add(layers.Dense(1))\n",
    "model.compile(loss=\"mae\")"
   ]
  },
  {
   "cell_type": "code",
   "execution_count": 42,
   "metadata": {},
   "outputs": [
    {
     "name": "stdout",
     "output_type": "stream",
     "text": [
      "Train for 1552 steps, validate for 770 steps\n",
      "Epoch 1/20\n",
      "1552/1552 [==============================] - 26s 17ms/step - loss: 0.0333 - val_loss: 0.0243\n",
      "Epoch 2/20\n",
      "1552/1552 [==============================] - 26s 17ms/step - loss: 0.0329 - val_loss: 0.0322\n",
      "Epoch 3/20\n",
      "1552/1552 [==============================] - 26s 17ms/step - loss: 0.0320 - val_loss: 0.0236\n",
      "Epoch 4/20\n",
      "1552/1552 [==============================] - 26s 17ms/step - loss: 0.0333 - val_loss: 0.0213\n",
      "Epoch 5/20\n",
      "1552/1552 [==============================] - 26s 17ms/step - loss: 0.0319 - val_loss: 0.0248\n",
      "Epoch 6/20\n",
      "1552/1552 [==============================] - 26s 17ms/step - loss: 0.0323 - val_loss: 0.0235\n",
      "Epoch 7/20\n",
      "1552/1552 [==============================] - 26s 17ms/step - loss: 0.0338 - val_loss: 0.0224\n",
      "Epoch 8/20\n",
      "1552/1552 [==============================] - 26s 17ms/step - loss: 0.0323 - val_loss: 0.0294\n",
      "Epoch 9/20\n",
      "1552/1552 [==============================] - 26s 17ms/step - loss: 0.0326 - val_loss: 0.0371\n",
      "Epoch 10/20\n",
      "1552/1552 [==============================] - 26s 17ms/step - loss: 0.0363 - val_loss: 0.0246\n",
      "Epoch 11/20\n",
      "1552/1552 [==============================] - 26s 17ms/step - loss: 0.0329 - val_loss: 0.0253\n",
      "Epoch 12/20\n",
      "1552/1552 [==============================] - 26s 17ms/step - loss: 0.0325 - val_loss: 0.0303\n",
      "Epoch 13/20\n",
      "1552/1552 [==============================] - 26s 17ms/step - loss: 0.0340 - val_loss: 0.0309\n",
      "Epoch 14/20\n",
      "1552/1552 [==============================] - 26s 17ms/step - loss: 0.0348 - val_loss: 0.0250\n",
      "Epoch 15/20\n",
      "1552/1552 [==============================] - 26s 17ms/step - loss: 0.0334 - val_loss: 0.0247\n",
      "Epoch 16/20\n",
      "1552/1552 [==============================] - 26s 17ms/step - loss: 0.0347 - val_loss: 0.0408\n",
      "Epoch 17/20\n",
      "1552/1552 [==============================] - 26s 17ms/step - loss: 0.0372 - val_loss: 0.0212\n",
      "Epoch 18/20\n",
      "1552/1552 [==============================] - 26s 17ms/step - loss: 0.0322 - val_loss: 0.0296\n",
      "Epoch 19/20\n",
      "1552/1552 [==============================] - 26s 17ms/step - loss: 0.0344 - val_loss: 0.0249\n",
      "Epoch 20/20\n",
      "1552/1552 [==============================] - 26s 17ms/step - loss: 0.0289 - val_loss: 0.0236\n",
      "CPU times: user 11min 22s, sys: 47.5 s, total: 12min 9s\n",
      "Wall time: 8min 44s\n"
     ]
    }
   ],
   "source": [
    "%%time\n",
    "res = model.fit(\n",
    "    train_gen.repeat(), steps_per_epoch=train_stp, epochs=20,\n",
    "    validation_data=valid_gen, validation_steps=valid_stp)"
   ]
  },
  {
   "cell_type": "code",
   "execution_count": 45,
   "metadata": {},
   "outputs": [
    {
     "data": {
      "text/plain": [
       "[<matplotlib.lines.Line2D at 0x7f8d25c62668>]"
      ]
     },
     "execution_count": 45,
     "metadata": {},
     "output_type": "execute_result"
    },
    {
     "data": {
      "image/png": "[encoded data removed]",
      "text/plain": [
       "<Figure size 432x288 with 1 Axes>"
      ]
     },
     "metadata": {
      "needs_background": "light"
     },
     "output_type": "display_data"
    }
   ],
   "source": [
    "plt.plot(res.history[\"loss\"])\n",
    "plt.plot(res.history[\"val_loss\"])\n",
    "# plt.ylim(0, 1)"
   ]
  },
  {
   "cell_type": "markdown",
   "metadata": {},
   "source": [
    "## リカレントドロップアウトによる過学習抑制\n",
    "RNN の内部ループにドロップアウトを入れると学習が阻害されるため、代わりにリカレントドロップアウトがある。これは RNN のループ内で毎回ドロップマスクを変えず、一連のループ内で同じマスクを使う。この方法ではドロップアウトは学習を阻害しない。"
   ]
  },
  {
   "cell_type": "code",
   "execution_count": 48,
   "metadata": {},
   "outputs": [],
   "source": [
    "model = models.Sequential()\n",
    "model.add(layers.GRU(32, dropout=0.2, recurrent_dropout=0.2, input_shape=(lookback, csv_x.shape[1])))\n",
    "model.add(layers.Dense(1))\n",
    "model.compile(loss=\"mae\")"
   ]
  },
  {
   "cell_type": "code",
   "execution_count": 49,
   "metadata": {},
   "outputs": [
    {
     "name": "stdout",
     "output_type": "stream",
     "text": [
      "Train for 1552 steps, validate for 770 steps\n",
      "Epoch 1/40\n",
      "1552/1552 [==============================] - 782s 504ms/step - loss: 0.4388 - val_loss: 0.7317\n",
      "Epoch 2/40\n",
      "1552/1552 [==============================] - 780s 503ms/step - loss: 0.4166 - val_loss: 0.7343\n",
      "Epoch 3/40\n",
      "1552/1552 [==============================] - 780s 502ms/step - loss: 0.4047 - val_loss: 0.6432\n",
      "Epoch 4/40\n",
      "1552/1552 [==============================] - 780s 503ms/step - loss: 0.3870 - val_loss: 0.4900\n",
      "Epoch 5/40\n",
      "1552/1552 [==============================] - 780s 503ms/step - loss: 0.3671 - val_loss: 0.4331\n",
      "Epoch 6/40\n",
      "1552/1552 [==============================] - 780s 503ms/step - loss: 0.3583 - val_loss: 0.3933\n",
      "Epoch 7/40\n",
      "1552/1552 [==============================] - 780s 503ms/step - loss: 0.3516 - val_loss: 0.3655\n",
      "Epoch 8/40\n",
      "1552/1552 [==============================] - 781s 503ms/step - loss: 0.3468 - val_loss: 0.3499\n",
      "Epoch 9/40\n",
      "1552/1552 [==============================] - 781s 503ms/step - loss: 0.3407 - val_loss: 0.3306\n",
      "Epoch 10/40\n",
      "1552/1552 [==============================] - 781s 503ms/step - loss: 0.3334 - val_loss: 0.3187\n",
      "Epoch 11/40\n",
      "1552/1552 [==============================] - 781s 503ms/step - loss: 0.3268 - val_loss: 0.3055\n",
      "Epoch 12/40\n",
      "1552/1552 [==============================] - 781s 503ms/step - loss: 0.3207 - val_loss: 0.3000\n",
      "Epoch 13/40\n",
      "1552/1552 [==============================] - 780s 503ms/step - loss: 0.3156 - val_loss: 0.2977\n",
      "Epoch 14/40\n",
      "1552/1552 [==============================] - 780s 503ms/step - loss: 0.3120 - val_loss: 0.2920\n",
      "Epoch 15/40\n",
      "1552/1552 [==============================] - 782s 504ms/step - loss: 0.3085 - val_loss: 0.2909\n",
      "Epoch 16/40\n",
      "1552/1552 [==============================] - 781s 503ms/step - loss: 0.3042 - val_loss: 0.2881\n",
      "Epoch 17/40\n",
      "1552/1552 [==============================] - 781s 503ms/step - loss: 0.3001 - val_loss: 0.2910\n",
      "Epoch 18/40\n",
      "1552/1552 [==============================] - 781s 503ms/step - loss: 0.2961 - val_loss: 0.2860\n",
      "Epoch 19/40\n",
      "1552/1552 [==============================] - 781s 503ms/step - loss: 0.2918 - val_loss: 0.2879\n",
      "Epoch 20/40\n",
      "1552/1552 [==============================] - 781s 503ms/step - loss: 0.2874 - val_loss: 0.2774\n",
      "Epoch 21/40\n",
      "1552/1552 [==============================] - 780s 503ms/step - loss: 0.2821 - val_loss: 0.2686\n",
      "Epoch 22/40\n",
      "1552/1552 [==============================] - 781s 503ms/step - loss: 0.2768 - val_loss: 0.2518\n",
      "Epoch 23/40\n",
      "1552/1552 [==============================] - 781s 504ms/step - loss: 0.2710 - val_loss: 0.2497\n",
      "Epoch 24/40\n",
      "1552/1552 [==============================] - 781s 503ms/step - loss: 0.2645 - val_loss: 0.2397\n",
      "Epoch 25/40\n",
      "1552/1552 [==============================] - 781s 503ms/step - loss: 0.2575 - val_loss: 0.2222\n",
      "Epoch 26/40\n",
      "1552/1552 [==============================] - 780s 503ms/step - loss: 0.2498 - val_loss: 0.2121\n",
      "Epoch 27/40\n",
      "1552/1552 [==============================] - 781s 503ms/step - loss: 0.2422 - val_loss: 0.2009\n",
      "Epoch 28/40\n",
      "1552/1552 [==============================] - 781s 503ms/step - loss: 0.2349 - val_loss: 0.1913\n",
      "Epoch 29/40\n",
      "1552/1552 [==============================] - 781s 504ms/step - loss: 0.2272 - val_loss: 0.1863\n",
      "Epoch 30/40\n",
      "1552/1552 [==============================] - 781s 503ms/step - loss: 0.2186 - val_loss: 0.1770\n",
      "Epoch 31/40\n",
      "1552/1552 [==============================] - 781s 503ms/step - loss: 0.2072 - val_loss: 0.1535\n",
      "Epoch 32/40\n",
      "1552/1552 [==============================] - 781s 503ms/step - loss: 0.1885 - val_loss: 0.1424\n",
      "Epoch 33/40\n",
      "1552/1552 [==============================] - 781s 503ms/step - loss: 0.1672 - val_loss: 0.1331\n",
      "Epoch 34/40\n",
      "1552/1552 [==============================] - 781s 503ms/step - loss: 0.1468 - val_loss: 0.1258\n",
      "Epoch 35/40\n",
      "1552/1552 [==============================] - 781s 503ms/step - loss: 0.1315 - val_loss: 0.1019\n",
      "Epoch 36/40\n",
      "1552/1552 [==============================] - 781s 503ms/step - loss: 0.1202 - val_loss: 0.0942\n",
      "Epoch 37/40\n",
      "1552/1552 [==============================] - 781s 503ms/step - loss: 0.1121 - val_loss: 0.0990\n",
      "Epoch 38/40\n",
      "1552/1552 [==============================] - 781s 503ms/step - loss: 0.1097 - val_loss: 0.0974\n",
      "Epoch 39/40\n",
      "1552/1552 [==============================] - 781s 503ms/step - loss: 0.1042 - val_loss: 0.1169\n",
      "Epoch 40/40\n",
      "1552/1552 [==============================] - 782s 504ms/step - loss: 0.1025 - val_loss: 0.1166\n",
      "CPU times: user 10h 28min 58s, sys: 17min 42s, total: 10h 46min 41s\n",
      "Wall time: 8h 40min 34s\n"
     ]
    }
   ],
   "source": [
    "%%time\n",
    "res = model.fit(\n",
    "    train_gen.repeat(), steps_per_epoch=train_stp, epochs=40,\n",
    "    validation_data=valid_gen, validation_steps=valid_stp)"
   ]
  },
  {
   "cell_type": "code",
   "execution_count": 50,
   "metadata": {},
   "outputs": [
    {
     "data": {
      "text/plain": [
       "(0, 1)"
      ]
     },
     "execution_count": 50,
     "metadata": {},
     "output_type": "execute_result"
    },
    {
     "data": {
      "image/png": "[encoded data removed]",
      "text/plain": [
       "<Figure size 432x288 with 1 Axes>"
      ]
     },
     "metadata": {
      "needs_background": "light"
     },
     "output_type": "display_data"
    }
   ],
   "source": [
    "plt.plot(res.history[\"loss\"])\n",
    "plt.plot(res.history[\"val_loss\"])\n",
    "plt.ylim(0, 1)"
   ]
  },
  {
   "cell_type": "markdown",
   "metadata": {},
   "source": [
    "## RNN層のスタッキング\n",
    "ここまでの RNN 層は最終出力のみを後続層に流していたが、 `return_sequences=True` を指定するとループ中の出力を出力でき、ここから更に RNN 層を重ねられる。\n",
    "\n",
    "## 双方向の RNN\n",
    "データの入力順序を通常の順序の他、逆順に入れる層を入れると異なる角度からも学習し性能向上することがある。組み合わせる際には 2 種類の層の後ろに Concatenate 層を作る。自然言語処理などで使われる。"
   ]
  },
  {
   "cell_type": "markdown",
   "metadata": {},
   "source": [
    "# CNN のシーケンス処理への適用\n",
    "時間軸は空間の構造として畳込みでも学習できる事がある (1次元畳込み)。 RNN よりも計算量が低く、特定のタスクでは良い選択肢になる。"
   ]
  },
  {
   "cell_type": "code",
   "execution_count": 51,
   "metadata": {},
   "outputs": [
    {
     "name": "stdout",
     "output_type": "stream",
     "text": [
      "Downloading data from https://storage.googleapis.com/tensorflow/tf-keras-datasets/imdb.npz\n",
      "17465344/17464789 [==============================] - 2s 0us/step\n"
     ]
    }
   ],
   "source": [
    "max_features = 10000\n",
    "max_len = 500\n",
    "\n",
    "(x_train, y_train), (x_test, y_test) = imdb.load_data(num_words=max_features)\n",
    "x_train = sequence.pad_sequences(x_train, maxlen=max_len)\n",
    "x_test = sequence.pad_sequences(x_test, maxlen=max_len)"
   ]
  },
  {
   "cell_type": "code",
   "execution_count": 71,
   "metadata": {},
   "outputs": [],
   "source": [
    "model = models.Sequential()\n",
    "model.add(layers.Embedding(max_features, 128, input_length=max_len))\n",
    "model.add(layers.Conv1D(32, 7, activation=\"relu\"))\n",
    "model.add(layers.GlobalMaxPooling1D())\n",
    "model.add(layers.Dense(1))"
   ]
  },
  {
   "cell_type": "code",
   "execution_count": 72,
   "metadata": {},
   "outputs": [
    {
     "name": "stdout",
     "output_type": "stream",
     "text": [
      "Train on 20000 samples, validate on 5000 samples\n",
      "Epoch 1/10\n",
      "20000/20000 [==============================] - 5s 255us/sample - loss: 1.1994 - acc: 0.5058 - val_loss: 0.6880 - val_acc: 0.5602\n",
      "Epoch 2/10\n",
      "20000/20000 [==============================] - 5s 226us/sample - loss: 0.6690 - acc: 0.6344 - val_loss: 0.6606 - val_acc: 0.6588\n",
      "Epoch 3/10\n",
      "20000/20000 [==============================] - 5s 225us/sample - loss: 0.6194 - acc: 0.7638 - val_loss: 0.6113 - val_acc: 0.7284\n",
      "Epoch 4/10\n",
      "20000/20000 [==============================] - 5s 227us/sample - loss: 0.5476 - acc: 0.8008 - val_loss: 0.5402 - val_acc: 0.7412\n",
      "Epoch 5/10\n",
      "20000/20000 [==============================] - 5s 228us/sample - loss: 0.4779 - acc: 0.7883 - val_loss: 0.4971 - val_acc: 0.7670\n",
      "Epoch 6/10\n",
      "20000/20000 [==============================] - 4s 225us/sample - loss: 0.4233 - acc: 0.8119 - val_loss: 0.4637 - val_acc: 0.8006\n",
      "Epoch 7/10\n",
      "20000/20000 [==============================] - 5s 227us/sample - loss: 0.3780 - acc: 0.8414 - val_loss: 0.4411 - val_acc: 0.8132\n",
      "Epoch 8/10\n",
      "20000/20000 [==============================] - 5s 227us/sample - loss: 0.3410 - acc: 0.8593 - val_loss: 0.4205 - val_acc: 0.8256\n",
      "Epoch 9/10\n",
      "20000/20000 [==============================] - 5s 228us/sample - loss: 0.3107 - acc: 0.8735 - val_loss: 0.4055 - val_acc: 0.8368\n",
      "Epoch 10/10\n",
      "20000/20000 [==============================] - 5s 228us/sample - loss: 0.2831 - acc: 0.8874 - val_loss: 0.3992 - val_acc: 0.8432\n"
     ]
    }
   ],
   "source": [
    "model.compile(optimizers.RMSprop(1e-4), loss=\"binary_crossentropy\", metrics=[\"acc\"])\n",
    "res = model.fit(x_train, y_train, epochs=10, batch_size=128, validation_split=0.2)"
   ]
  },
  {
   "cell_type": "code",
   "execution_count": 74,
   "metadata": {},
   "outputs": [
    {
     "data": {
      "text/plain": [
       "(0, 1)"
      ]
     },
     "execution_count": 74,
     "metadata": {},
     "output_type": "execute_result"
    },
    {
     "data": {
      "image/png": "[encoded data removed]",
      "text/plain": [
       "<Figure size 432x288 with 1 Axes>"
      ]
     },
     "metadata": {
      "needs_background": "light"
     },
     "output_type": "display_data"
    }
   ],
   "source": [
    "plt.plot(res.history[\"loss\"])\n",
    "plt.plot(res.history[\"val_loss\"])\n",
    "plt.ylim(0, 1)"
   ]
  },
  {
   "cell_type": "markdown",
   "metadata": {},
   "source": [
    "# CNN と RNN を組み合わせる\n",
    "Conv1D を RNN 層の前に追加すると高レベルな特徴量からなるダウンサンプリングされたシーケンスを RNN へ入力できる。RNN へ入力するシーケンスの長さが非現実的なサイズの場合に有効な手法となる\n",
    "\n",
    "* Conv1D は時間的なパターン処理に適している\n",
    "* 一般に Conv2D と変わらない。Conv1D - MaxPooling1D、最後に GlobalMaxPooling1D や Flatten が入る\n",
    "* RNN 層への入力前に使うと RNN に有益な表現を抽出できる"
   ]
  },
  {
   "cell_type": "code",
   "execution_count": 91,
   "metadata": {},
   "outputs": [],
   "source": [
    "# 直近 10日間 を入力\n",
    "lookback = 480\n",
    "# 時間分解能 1時間毎\n",
    "step = 3\n",
    "# 24時間後の気温を予測\n",
    "delay = 48\n",
    "batch_size = 128\n",
    "\n",
    "# モデルへのデータ供給用データセットを作成\n",
    "train_gen, train_stp = generate(csv_x, csv_y, lookback, delay, 0, 200000, batch_size=batch_size, step=step)\n",
    "valid_gen, valid_stp = generate(csv_x, csv_y, lookback, delay, 200001, 300000, batch_size=batch_size, step=step)\n",
    "test_gen , _         = generate(csv_x, csv_y, lookback, delay, 300001, None, batch_size=batch_size, step=step)"
   ]
  },
  {
   "cell_type": "code",
   "execution_count": 92,
   "metadata": {},
   "outputs": [
    {
     "name": "stdout",
     "output_type": "stream",
     "text": [
      "Model: \"sequential_18\"\n",
      "_________________________________________________________________\n",
      "Layer (type)                 Output Shape              Param #   \n",
      "=================================================================\n",
      "conv1d_18 (Conv1D)           (None, 476, 32)           2272      \n",
      "_________________________________________________________________\n",
      "max_pooling1d_7 (MaxPooling1 (None, 158, 32)           0         \n",
      "_________________________________________________________________\n",
      "conv1d_19 (Conv1D)           (None, 154, 32)           5152      \n",
      "_________________________________________________________________\n",
      "gru_10 (GRU)                 (None, 32)                6336      \n",
      "_________________________________________________________________\n",
      "dense_18 (Dense)             (None, 1)                 33        \n",
      "=================================================================\n",
      "Total params: 13,793\n",
      "Trainable params: 13,793\n",
      "Non-trainable params: 0\n",
      "_________________________________________________________________\n"
     ]
    }
   ],
   "source": [
    "model = models.Sequential()\n",
    "model.add(layers.Conv1D(32, 5, activation=\"relu\", input_shape=(lookback, csv_x.shape[1])))\n",
    "model.add(layers.MaxPool1D(3))\n",
    "model.add(layers.Conv1D(32, 5, activation=\"relu\"))\n",
    "model.add(layers.GRU(32, dropout=0.1, recurrent_dropout=0.5))\n",
    "model.add(layers.Dense(1))\n",
    "model.summary()"
   ]
  },
  {
   "cell_type": "code",
   "execution_count": 93,
   "metadata": {},
   "outputs": [
    {
     "name": "stdout",
     "output_type": "stream",
     "text": [
      "Train for 1551 steps, validate for 770 steps\n",
      "Epoch 1/20\n",
      "1551/1551 [==============================] - 581s 375ms/step - loss: 0.3639 - val_loss: 0.6734\n",
      "Epoch 2/20\n",
      "1551/1551 [==============================] - 512s 330ms/step - loss: 0.3545 - val_loss: 0.5002\n",
      "Epoch 3/20\n",
      "1551/1551 [==============================] - 510s 329ms/step - loss: 0.3365 - val_loss: 0.4056\n",
      "Epoch 4/20\n",
      "1551/1551 [==============================] - 510s 329ms/step - loss: 0.3324 - val_loss: 0.3454\n",
      "Epoch 5/20\n",
      "1551/1551 [==============================] - 509s 328ms/step - loss: 0.3256 - val_loss: 0.4008\n",
      "Epoch 6/20\n",
      "1551/1551 [==============================] - 509s 328ms/step - loss: 0.3219 - val_loss: 0.3754\n",
      "Epoch 7/20\n",
      "1551/1551 [==============================] - 510s 329ms/step - loss: 0.3175 - val_loss: 0.3732\n",
      "Epoch 8/20\n",
      "1551/1551 [==============================] - 509s 328ms/step - loss: 0.3143 - val_loss: 0.3938\n",
      "Epoch 9/20\n",
      "1551/1551 [==============================] - 510s 329ms/step - loss: 0.3133 - val_loss: 0.3757\n",
      "Epoch 10/20\n",
      "1551/1551 [==============================] - 509s 328ms/step - loss: 0.3117 - val_loss: 0.3544\n",
      "Epoch 11/20\n",
      "1551/1551 [==============================] - 510s 329ms/step - loss: 0.3097 - val_loss: 0.3727\n",
      "Epoch 12/20\n",
      "1551/1551 [==============================] - 509s 328ms/step - loss: 0.3107 - val_loss: 0.3455\n",
      "Epoch 13/20\n",
      "1551/1551 [==============================] - 510s 329ms/step - loss: 0.3095 - val_loss: 0.3418\n",
      "Epoch 14/20\n",
      "1551/1551 [==============================] - 510s 329ms/step - loss: 0.3086 - val_loss: 0.3418\n",
      "Epoch 15/20\n",
      "1551/1551 [==============================] - 509s 328ms/step - loss: 0.3083 - val_loss: 0.3478\n",
      "Epoch 16/20\n",
      "1551/1551 [==============================] - 509s 328ms/step - loss: 0.3055 - val_loss: 0.3726\n",
      "Epoch 17/20\n",
      "1551/1551 [==============================] - 509s 328ms/step - loss: 0.3040 - val_loss: 0.3805\n",
      "Epoch 18/20\n",
      "1551/1551 [==============================] - 509s 328ms/step - loss: 0.3017 - val_loss: 0.3594\n",
      "Epoch 19/20\n",
      "1551/1551 [==============================] - 509s 328ms/step - loss: 0.3000 - val_loss: 0.3798\n",
      "Epoch 20/20\n",
      "1551/1551 [==============================] - 509s 328ms/step - loss: 0.2970 - val_loss: 0.3757\n",
      "CPU times: user 3h 35min 11s, sys: 6min 11s, total: 3h 41min 22s\n",
      "Wall time: 2h 51min 1s\n"
     ]
    }
   ],
   "source": [
    "%%time\n",
    "model.compile(loss=\"mae\")\n",
    "res = model.fit(\n",
    "    train_gen.repeat(), steps_per_epoch=train_stp, epochs=20,\n",
    "    validation_data=valid_gen, validation_steps=valid_stp)"
   ]
  },
  {
   "cell_type": "code",
   "execution_count": 94,
   "metadata": {},
   "outputs": [
    {
     "data": {
      "text/plain": [
       "(0, 1)"
      ]
     },
     "execution_count": 94,
     "metadata": {},
     "output_type": "execute_result"
    },
    {
     "data": {
      "image/png": "[encoded data removed]",
      "text/plain": [
       "<Figure size 432x288 with 1 Axes>"
      ]
     },
     "metadata": {
      "needs_background": "light"
     },
     "output_type": "display_data"
    }
   ],
   "source": [
    "plt.plot(res.history[\"loss\"])\n",
    "plt.plot(res.history[\"val_loss\"])\n",
    "plt.ylim(0, 1)"
   ]
  }
 ],
 "metadata": {
  "kernelspec": {
   "display_name": "Python 3",
   "language": "python",
   "name": "python3"
  },
  "language_info": {
   "codemirror_mode": {
    "name": "ipython",
    "version": 3
   },
   "file_extension": ".py",
   "mimetype": "text/x-python",
   "name": "python",
   "nbconvert_exporter": "python",
   "pygments_lexer": "ipython3",
   "version": "3.7.3"
  }
 },
 "nbformat": 4,
 "nbformat_minor": 4
}
