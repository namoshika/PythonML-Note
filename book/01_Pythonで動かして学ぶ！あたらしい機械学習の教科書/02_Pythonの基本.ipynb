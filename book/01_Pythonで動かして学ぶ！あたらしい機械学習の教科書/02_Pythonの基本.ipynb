{
 "cells": [
  {
   "cell_type": "code",
   "execution_count": 1,
   "metadata": {},
   "outputs": [],
   "source": [
    "%matplotlib inline\n",
    "import statistics\n",
    "import numpy as np\n",
    "import scipy.optimize as opt\n",
    "import matplotlib.pyplot as plt\n",
    "import pandas as pd"
   ]
  },
  {
   "cell_type": "code",
   "execution_count": 2,
   "metadata": {},
   "outputs": [
    {
     "name": "stdout",
     "output_type": "stream",
     "text": [
      "haaello     \n",
      "2\n",
      "True\n",
      "True\n"
     ]
    }
   ],
   "source": [
    "print(\"bhaaello     abc\".strip(\"abc\"))\n",
    "print(\"hello world\".find(\"llo\"))\n",
    "print(\"hello world\".startswith(\"hello\"))\n",
    "print(\"hello world\".endswith(\"world\"))"
   ]
  },
  {
   "cell_type": "code",
   "execution_count": 3,
   "metadata": {},
   "outputs": [
    {
     "name": "stdout",
     "output_type": "stream",
     "text": [
      "['weei', 'れに', 'かなこ', 'しおり', 'あやか', 'ももか']\n",
      "キャッチフレーズ 感電少女\n",
      "ニックネーム れにちゃん\n",
      "出身地 神奈川県\n",
      "True\n"
     ]
    }
   ],
   "source": [
    "mcz = [\"れに\", \"かなこ\", \"しおり\", \"あやか\", \"ももか\"]\n",
    "mcz.insert(0, \"weei\")\n",
    "print(mcz)\n",
    "\n",
    "dc = { \"キャッチフレーズ\": \"感電少女\", \"ニックネーム\": \"れにちゃん\", \"出身地\": \"神奈川県\"}\n",
    "for key, val in dc.items():\n",
    "    print(key, val)\n",
    "\n",
    "stA = { \"裏\", \"表\" }\n",
    "stB = { \"裏\" }\n",
    "print(stB <= stA)"
   ]
  },
  {
   "cell_type": "code",
   "execution_count": 4,
   "metadata": {},
   "outputs": [
    {
     "name": "stdout",
     "output_type": "stream",
     "text": [
      "('ccc ', 'ddd')\n",
      "aaa bbb ccc ddd re.compile('(\\\\w+\\\\s)+(\\\\w+)')\n"
     ]
    }
   ],
   "source": [
    "import pathlib\n",
    "import re\n",
    "\n",
    "with pathlib.Path(\"../data/data_hist.csv\").open(\"r\", encoding=\"utf8\") as p:\n",
    "    txt = \"\".join((line for idx, line in enumerate(p) if idx < 10))\n",
    "    \n",
    "    rg = re.compile(\"(\\w+\\s)+(\\w+)\")\n",
    "    bb = rg.search(\"aaa bbb ccc ddd\", 3)\n",
    "    print(bb.groups())\n",
    "    print(bb.string, bb.re)"
   ]
  },
  {
   "cell_type": "code",
   "execution_count": 5,
   "metadata": {},
   "outputs": [
    {
     "name": "stdout",
     "output_type": "stream",
     "text": [
      "[(9, 1), (8, 2), (7, 3), (6, 4), (5, 5), (4, 6), (3, 7), (2, 8), (1, 9)]\n",
      "[(9, 10), (8, 11), (7, 12), (6, 13), (5, 14), (4, 15), (3, 16), (2, 17), (1, 18)]\n"
     ]
    }
   ],
   "source": [
    "valsA = range(1, 10)\n",
    "valsA = map(lambda x: (x, 10 - x), valsA)\n",
    "valsA = sorted(valsA, key=lambda x: x[1])\n",
    "print(valsA)\n",
    "\n",
    "valsB = range(10, 19)\n",
    "valsC = map(lambda x: x[0], valsA)\n",
    "valsC = zip(valsC, valsB)\n",
    "print(list(valsC))"
   ]
  },
  {
   "cell_type": "code",
   "execution_count": 6,
   "metadata": {},
   "outputs": [
    {
     "name": "stdout",
     "output_type": "stream",
     "text": [
      "1\n",
      "2\n",
      "12\n",
      "{'he': 12}\n"
     ]
    }
   ],
   "source": [
    "def hello(a, b, c=12, **args):\n",
    "    print(a)\n",
    "    print(b)\n",
    "    print(c)\n",
    "    print(args)\n",
    "hello(1,2, he=12)"
   ]
  },
  {
   "cell_type": "code",
   "execution_count": 7,
   "metadata": {},
   "outputs": [
    {
     "data": {
      "text/plain": [
       "'あいうえお'"
      ]
     },
     "execution_count": 7,
     "metadata": {},
     "output_type": "execute_result"
    }
   ],
   "source": [
    "\"あいうえお\".encode(\"sjis\").decode(\"shift_jis\")"
   ]
  },
  {
   "cell_type": "code",
   "execution_count": 10,
   "metadata": {},
   "outputs": [
    {
     "name": "stdout",
     "output_type": "stream",
     "text": [
      "{\n",
      "    \"_meta\": {\n",
      "        \"hash\": {\n",
      "{\n",
      "    \"_meta\": {\n",
      "        \"hash\": {\n",
      "            \"sha256\": \"ee3a4b2de7fef255246fc7d477d484e9d47b792015cfa61f5092d4d9180b3556\"\n",
      "        },\n",
      "\n"
     ]
    }
   ],
   "source": [
    "with open(\"../Pipfile.lock\", \"r\", encoding=\"utf8\") as f:\n",
    "    t = f.read()\n",
    "    t = t.split(\"\\n\")\n",
    "    print(\"\\n\".join(t[0:3]))\n",
    "    \n",
    "with open(\"../Pipfile.lock\", \"r\", encoding=\"utf8\") as f:\n",
    "    print(\"\".join(line for no,line in enumerate(f) if no < 5))"
   ]
  },
  {
   "cell_type": "code",
   "execution_count": 11,
   "metadata": {},
   "outputs": [
    {
     "name": "stdout",
     "output_type": "stream",
     "text": [
      "[(1, 2), (2, 3), (3, 4)]\n",
      "{0: 0, 1: 1, 2: 4, 3: 9, 4: 16, 5: 25, 6: 36, 7: 49, 8: 64, 9: 81}\n",
      "{0, 1, 2, 3, 4, 5, 6, 7, 8, 9}\n"
     ]
    }
   ],
   "source": [
    "lst = [(1,2), (2,3), (3,4)]\n",
    "dct = { x: x**2 for x in range(10) }\n",
    "st =  { x for x in range(10) }\n",
    "\n",
    "print(lst)\n",
    "print(dct)\n",
    "print(st)"
   ]
  },
  {
   "cell_type": "code",
   "execution_count": 12,
   "metadata": {},
   "outputs": [
    {
     "name": "stdout",
     "output_type": "stream",
     "text": [
      "a 0\n",
      "a 1\n",
      "a 2\n",
      "a 3\n",
      "a 4\n",
      "a 5\n",
      "a 6\n",
      "a 7\n",
      "a 8\n",
      "a 9\n"
     ]
    }
   ],
   "source": [
    "def gen():\n",
    "    for x in range(10):\n",
    "        yield x\n",
    "\n",
    "a = gen()\n",
    "for x in a:\n",
    "    print(\"a\", x)\n",
    "for x in a:\n",
    "    print(\"b\", x)"
   ]
  },
  {
   "cell_type": "code",
   "execution_count": 2,
   "metadata": {},
   "outputs": [
    {
     "data": {
      "text/plain": [
       "False"
      ]
     },
     "execution_count": 2,
     "metadata": {},
     "output_type": "execute_result"
    }
   ],
   "source": [
    "import datetime\n",
    "type(datetime.datetime.now())\n",
    "isinstance(datetime.datetime.now(), datetime.time)"
   ]
  },
  {
   "cell_type": "code",
   "execution_count": 1,
   "metadata": {},
   "outputs": [
    {
     "data": {
      "text/plain": [
       "datetime.time(22, 30, 40, 1)"
      ]
     },
     "execution_count": 1,
     "metadata": {},
     "output_type": "execute_result"
    }
   ],
   "source": [
    "import datetime\n",
    "datetime.time(22,30,40,1)"
   ]
  },
  {
   "cell_type": "code",
   "execution_count": 3,
   "metadata": {},
   "outputs": [
    {
     "data": {
      "text/plain": [
       "'2017'"
      ]
     },
     "execution_count": 3,
     "metadata": {},
     "output_type": "execute_result"
    }
   ],
   "source": [
    "import datetime\n",
    "a = datetime.datetime(2017, 2, 15, 10, 20, 30)\n",
    "a.strftime(\"%Y\")"
   ]
  },
  {
   "cell_type": "code",
   "execution_count": 4,
   "metadata": {},
   "outputs": [
    {
     "data": {
      "text/plain": [
       "datetime.datetime(2017, 2, 15, 10, 20, 30)"
      ]
     },
     "execution_count": 4,
     "metadata": {},
     "output_type": "execute_result"
    }
   ],
   "source": [
    "tz = datetime.timezone(datetime.timedelta(hours=9))\n",
    "utc = datetime.datetime.now(tz)\n",
    "utc.strftime(\"%Y-%m-%d %H:%M:%S\")\n",
    "a"
   ]
  },
  {
   "cell_type": "code",
   "execution_count": 14,
   "metadata": {},
   "outputs": [
    {
     "name": "stdout",
     "output_type": "stream",
     "text": [
      "ChildErrorが発生\n"
     ]
    },
    {
     "name": "stderr",
     "output_type": "stream",
     "text": [
      "Traceback (most recent call last):\n",
      "  File \"<ipython-input-14-c2064f3632df>\", line 4, in RootMethod\n",
      "    try: ParentMethod()\n",
      "  File \"<ipython-input-14-c2064f3632df>\", line 7, in ParentMethod\n",
      "    ChildMethod()\n",
      "  File \"<ipython-input-14-c2064f3632df>\", line 9, in ChildMethod\n",
      "    raise ChildError()\n",
      "ChildError: ChildErrorが発生\n",
      "\n",
      "The above exception was the direct cause of the following exception:\n",
      "\n",
      "Traceback (most recent call last):\n",
      "  File \"<ipython-input-14-c2064f3632df>\", line 17, in <module>\n",
      "    RootMethod()\n",
      "  File \"<ipython-input-14-c2064f3632df>\", line 5, in RootMethod\n",
      "    except ChildError as e: raise RootError() from e\n",
      "RootError: RootErrorが発生\n"
     ]
    }
   ],
   "source": [
    "import traceback\n",
    "\n",
    "def RootMethod():\n",
    "    try: ParentMethod()\n",
    "    except ChildError as e: raise RootError() from e\n",
    "def ParentMethod():\n",
    "    ChildMethod()\n",
    "def ChildMethod():\n",
    "    raise ChildError()\n",
    "\n",
    "class ChildError(Exception):\n",
    "    def __str__(self): return \"ChildErrorが発生\"\n",
    "class RootError(ChildError):\n",
    "    def __str__(self): return \"RootErrorが発生\"\n",
    "    \n",
    "try:\n",
    "    RootMethod()\n",
    "except Exception as e:\n",
    "    print(e.__cause__)\n",
    "    traceback.print_exc()"
   ]
  },
  {
   "cell_type": "code",
   "execution_count": 2,
   "metadata": {},
   "outputs": [
    {
     "name": "stdout",
     "output_type": "stream",
     "text": [
      "array([[ 1,  2,  3,  4],\n",
      "       [ 2,  4,  6,  8],\n",
      "       [ 3,  6,  9, 12],\n",
      "       [ 4,  8, 12, 16]], dtype=int8)\n",
      "array([[1, 2],\n",
      "       [2, 4]], dtype=int8)\n",
      "(4, 4)\n"
     ]
    }
   ],
   "source": [
    "aryA = np.array([[x * y for x in range(1, 5)] for y in range(1, 5)], np.int8)\n",
    "print(repr(aryA))\n",
    "print(repr(aryA[0:2, 0:2]))\n",
    "print(repr(aryA.shape))"
   ]
  },
  {
   "cell_type": "code",
   "execution_count": 3,
   "metadata": {},
   "outputs": [
    {
     "name": "stdout",
     "output_type": "stream",
     "text": [
      "array([[ 1,  2,  3,  4],\n",
      "       [ 2,  4,  6,  8],\n",
      "       [ 3,  6,  9, 12],\n",
      "       [ 4,  8, 12, 16]], dtype=int8)\n",
      "array([[ 1,  2,  2,  3,  4,  4,  6,  8],\n",
      "       [ 3,  4,  6,  8,  9, 12, 12, 16]], dtype=int8)\n",
      "array([[0, 0, 0],\n",
      "       [0, 1, 0],\n",
      "       [0, 0, 2]])\n",
      "array([[ 1,  3],\n",
      "       [ 2,  4],\n",
      "       [ 2,  6],\n",
      "       [ 3,  8],\n",
      "       [ 4,  9],\n",
      "       [ 4, 12],\n",
      "       [ 6, 12],\n",
      "       [ 8, 16]], dtype=int8)\n",
      "array([[ 1,  3],\n",
      "       [ 2,  4],\n",
      "       [ 2,  6],\n",
      "       [ 3,  8],\n",
      "       [ 4,  9],\n",
      "       [ 4, 12],\n",
      "       [ 6, 12],\n",
      "       [ 8, 16]], dtype=int8)\n",
      "array([ 1,  2,  2,  3,  4,  4,  6,  8,  3,  4,  6,  8,  9, 12, 12, 16],\n",
      "      dtype=int8)\n"
     ]
    }
   ],
   "source": [
    "aryA = np.array([[x * y for x in range(1, 5)] for y in range(1, 5)], np.int8)\n",
    "print(repr(aryA))\n",
    "aryB = aryA.reshape(2, 8)[:,::-1]\n",
    "aryB.sort(axis=1)\n",
    "print(repr(aryB))\n",
    "print(repr(np.diag(np.arange(3))))\n",
    "print(repr(np.swapaxes(aryB, 0, 1)))\n",
    "print(repr(np.transpose(aryB)))\n",
    "print(repr(aryB.flatten()))"
   ]
  },
  {
   "cell_type": "code",
   "execution_count": 4,
   "metadata": {},
   "outputs": [
    {
     "data": {
      "text/plain": [
       "array([[1., 0.],\n",
       "       [0., 1.]])"
      ]
     },
     "execution_count": 4,
     "metadata": {},
     "output_type": "execute_result"
    }
   ],
   "source": [
    "aa = np.arange(4).reshape((2, 2))\n",
    "bb = np.linalg.inv(aa)\n",
    "np.dot(aa, bb)"
   ]
  },
  {
   "cell_type": "code",
   "execution_count": 5,
   "metadata": {},
   "outputs": [
    {
     "data": {
      "text/plain": [
       "array([[0],\n",
       "       [1],\n",
       "       [2],\n",
       "       [3],\n",
       "       [4]])"
      ]
     },
     "execution_count": 5,
     "metadata": {},
     "output_type": "execute_result"
    }
   ],
   "source": [
    "a = np.arange(5)\n",
    "a[:,np.newaxis]"
   ]
  },
  {
   "cell_type": "code",
   "execution_count": 6,
   "metadata": {},
   "outputs": [
    {
     "data": {
      "image/png": "[encoded data removed]",
      "text/plain": [
       "<Figure size 864x360 with 6 Axes>"
      ]
     },
     "metadata": {},
     "output_type": "display_data"
    }
   ],
   "source": [
    "from matplotlib.colors import cnames\n",
    "\n",
    "w = 2\n",
    "x = np.linspace(-5, 5, 100)\n",
    "plt.figure(figsize=(12,5))\n",
    "for w in range(6):\n",
    "    plt.subplot(2, 3, w + 1)\n",
    "    plt.plot(x, x**2, color=\"cornflowerblue\", label=\"$w=2$\")\n",
    "    y = (x - w) * x * (x + 2)\n",
    "    plt.title(\"hogehoge\")\n",
    "    plt.xlabel(\"$x$\")\n",
    "    plt.ylabel(\"$y$\")\n",
    "    plt.xlim(-5, 5)\n",
    "    plt.legend()\n",
    "    plt.subplots_adjust(wspace=0.3, hspace=0.4)\n",
    "    plt.axhline(15)\n",
    "    plt.grid(True)"
   ]
  },
  {
   "cell_type": "code",
   "execution_count": 7,
   "metadata": {},
   "outputs": [
    {
     "data": {
      "text/plain": [
       "Text(0.5,0,'horizontal label')"
      ]
     },
     "execution_count": 7,
     "metadata": {},
     "output_type": "execute_result"
    },
    {
     "data": {
      "image/png": "[encoded data removed]",
      "text/plain": [
       "<Figure size 432x288 with 1 Axes>"
      ]
     },
     "metadata": {},
     "output_type": "display_data"
    }
   ],
   "source": [
    "tokyo_temps = [\n",
    "    [14.8, 14.8, 15.1, 15.4, 15.2, 15.4, 17.0, 16.9],\n",
    "    [10.0, 10.4, 11.5, 11.2, 10.9, 10.6, 11.8, 12.2],\n",
    "    [16.0, 15.5, 15.9, 16.4, 15.9, 15.6, 17.5, 17.1],\n",
    "]\n",
    "\n",
    "plt.bar(range(len(tokyo_temps)), [sum(city) / len(city) for city in tokyo_temps])\n",
    "plt.plot(range(len(tokyo_temps)), [statistics.mean(city) for city in tokyo_temps], color=\"red\")\n",
    "plt.axhline(8, color=\"#505050\")\n",
    "plt.xlim(-1, 3)\n",
    "plt.xlabel(\"horizontal label\")"
   ]
  },
  {
   "cell_type": "code",
   "execution_count": 8,
   "metadata": {},
   "outputs": [
    {
     "data": {
      "text/plain": [
       "<matplotlib.colorbar.Colorbar at 0x21e1047fdd8>"
      ]
     },
     "execution_count": 8,
     "metadata": {},
     "output_type": "execute_result"
    },
    {
     "data": {
      "image/png": "[encoded data removed]",
      "text/plain": [
       "<Figure size 576x216 with 2 Axes>"
      ]
     },
     "metadata": {},
     "output_type": "display_data"
    }
   ],
   "source": [
    "xn = 9\n",
    "x0 = np.linspace(-2, 2, xn)\n",
    "x1 = np.linspace(-2, 2, xn)\n",
    "xx0, xx1 = np.meshgrid(x0, x1)\n",
    "rr = 2 * xx0**2 + xx1**2\n",
    "yy = np.round(rr * np.exp(-rr), 1)\n",
    "y = np.zeros((len(x0), len(x1)))\n",
    "        \n",
    "plt.figure(figsize=(8, 3))\n",
    "plt.subplot(1, 2, 2)\n",
    "plt.pcolor(yy)\n",
    "plt.colorbar()"
   ]
  },
  {
   "cell_type": "code",
   "execution_count": 228,
   "metadata": {},
   "outputs": [
    {
     "name": "stdout",
     "output_type": "stream",
     "text": [
      "   direc: array([[1.]])\n",
      "     fun: array(-1.0095168)\n",
      " message: 'Optimization terminated successfully.'\n",
      "    nfev: 26\n",
      "     nit: 2\n",
      "  status: 0\n",
      " success: True\n",
      "       x: array(0.01961661)\n",
      "     fun: -1.0095167969634018\n",
      "     jac: array([1.8646211e-10])\n",
      " message: 'Optimization terminated successfully.'\n",
      "    nfev: 14\n",
      "     nit: 2\n",
      "    njev: 14\n",
      "  status: 0\n",
      " success: True\n",
      "       x: array([0.01961636])\n"
     ]
    },
    {
     "data": {
      "image/png": "[encoded data removed]",
      "text/plain": [
       "<Figure size 720x288 with 2 Axes>"
      ]
     },
     "metadata": {},
     "output_type": "display_data"
    }
   ],
   "source": [
    "x = np.linspace(-4, 5, 60)\n",
    "y = lambda x: -np.exp(-x ** 2) -(1/2) * np.exp(-(x-2) ** 2)\n",
    "d = lambda x: np.exp(-x**2) * 2 * x + (1/2) * np.exp(-(x-2)**2) * 2 * (x-2)\n",
    "\n",
    "plt.figure(figsize=(10, 4))\n",
    "for i in range(1, 3):\n",
    "    plt.subplot(1, 2, i)\n",
    "    plt.plot(x, y(x))\n",
    "\n",
    "    if i == 1:\n",
    "        optRes = opt.minimize(y, 4, method=\"powell\")\n",
    "    else:\n",
    "        plt.plot(x, d(x))\n",
    "        optRes = opt.minimize(y, 4, jac=d, method=\"CG\")\n",
    "        \n",
    "    print(optRes)\n",
    "    plt.ylim(-1.1, 0.8)\n",
    "    plt.grid()\n",
    "    plt.axvline(optRes.x, c=\"red\", linestyle=\"--\")"
   ]
  }
 ],
 "metadata": {
  "kernelspec": {
   "display_name": "Python 3",
   "language": "python",
   "name": "python3"
  },
  "language_info": {
   "codemirror_mode": {
    "name": "ipython",
    "version": 3
   },
   "file_extension": ".py",
   "mimetype": "text/x-python",
   "name": "python",
   "nbconvert_exporter": "python",
   "pygments_lexer": "ipython3",
   "version": "3.6.6"
  }
 },
 "nbformat": 4,
 "nbformat_minor": 2
}
